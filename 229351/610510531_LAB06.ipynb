{
  "nbformat": 4,
  "nbformat_minor": 0,
  "metadata": {
    "colab": {
      "name": "610510531_LAB06.ipynb",
      "provenance": [],
      "collapsed_sections": [],
      "include_colab_link": true
    },
    "kernelspec": {
      "name": "python3",
      "display_name": "Python 3"
    }
  },
  "cells": [
    {
      "cell_type": "markdown",
      "metadata": {
        "id": "view-in-github",
        "colab_type": "text"
      },
      "source": [
        "<a href=\"https://colab.research.google.com/github/tackulus/229351/blob/main/610510531_LAB06.ipynb\" target=\"_parent\"><img src=\"https://colab.research.google.com/assets/colab-badge.svg\" alt=\"Open In Colab\"/></a>"
      ]
    },
    {
      "cell_type": "markdown",
      "metadata": {
        "id": "rUWDxJYaXbGS"
      },
      "source": [
        "ปฏิบัติการครั้งที่ 6 กระบวนวิชา 229351 Statistical Learning for Data Science\n",
        "\n",
        "คำชี้แจง\n",
        "\n",
        "ให้เริ่มทำปฏิบัติการจาก colab notebook ที่กำหนดให้ จากนั้นเลือก File -> Download .ipynb"
      ]
    },
    {
      "cell_type": "code",
      "metadata": {
        "id": "ntO6KNB7A24q",
        "colab": {
          "base_uri": "https://localhost:8080/"
        },
        "outputId": "aa053dd4-c793-4f20-cb89-56cd27a90ed2"
      },
      "source": [
        "# import module ที่ต้องใช้\n",
        "import numpy as np\n",
        "import pandas as pd\n",
        "from scipy import stats\n",
        "\n",
        "# Download the file\n",
        "!wget -O Auto.csv http://www.donlapark.cmustat.com/229351/data/Auto.csv"
      ],
      "execution_count": 1,
      "outputs": [
        {
          "output_type": "stream",
          "text": [
            "--2021-01-16 15:02:07--  http://www.donlapark.cmustat.com/229351/data/Auto.csv\n",
            "Resolving www.donlapark.cmustat.com (www.donlapark.cmustat.com)... 150.107.31.67\n",
            "Connecting to www.donlapark.cmustat.com (www.donlapark.cmustat.com)|150.107.31.67|:80... connected.\n",
            "HTTP request sent, awaiting response... 200 OK\n",
            "Length: 18079 (18K) [text/csv]\n",
            "Saving to: ‘Auto.csv’\n",
            "\n",
            "Auto.csv            100%[===================>]  17.66K  70.4KB/s    in 0.3s    \n",
            "\n",
            "2021-01-16 15:02:08 (70.4 KB/s) - ‘Auto.csv’ saved [18079/18079]\n",
            "\n"
          ],
          "name": "stdout"
        }
      ]
    },
    {
      "cell_type": "code",
      "metadata": {
        "id": "O_4Mr2OWaAae",
        "colab": {
          "base_uri": "https://localhost:8080/",
          "height": 348
        },
        "outputId": "bdddde9c-a7bd-4c59-bc86-52c5050f920d"
      },
      "source": [
        "# อ่านไฟล์ csv ก่อนเพื่อหา missing values\n",
        "auto_df = pd.read_csv('Auto.csv',na_values=[\"?\"])\n",
        "\n",
        "# ลบแถวที่มี missing values\n",
        "auto_df = auto_df.dropna()\n",
        "auto_df.head()"
      ],
      "execution_count": 2,
      "outputs": [
        {
          "output_type": "execute_result",
          "data": {
            "text/html": [
              "<div>\n",
              "<style scoped>\n",
              "    .dataframe tbody tr th:only-of-type {\n",
              "        vertical-align: middle;\n",
              "    }\n",
              "\n",
              "    .dataframe tbody tr th {\n",
              "        vertical-align: top;\n",
              "    }\n",
              "\n",
              "    .dataframe thead th {\n",
              "        text-align: right;\n",
              "    }\n",
              "</style>\n",
              "<table border=\"1\" class=\"dataframe\">\n",
              "  <thead>\n",
              "    <tr style=\"text-align: right;\">\n",
              "      <th></th>\n",
              "      <th>mpg</th>\n",
              "      <th>cylinders</th>\n",
              "      <th>displacement</th>\n",
              "      <th>horsepower</th>\n",
              "      <th>weight</th>\n",
              "      <th>acceleration</th>\n",
              "      <th>year</th>\n",
              "      <th>origin</th>\n",
              "      <th>name</th>\n",
              "    </tr>\n",
              "  </thead>\n",
              "  <tbody>\n",
              "    <tr>\n",
              "      <th>0</th>\n",
              "      <td>18.0</td>\n",
              "      <td>8</td>\n",
              "      <td>307.0</td>\n",
              "      <td>130.0</td>\n",
              "      <td>3504</td>\n",
              "      <td>12.0</td>\n",
              "      <td>70</td>\n",
              "      <td>1</td>\n",
              "      <td>chevrolet chevelle malibu</td>\n",
              "    </tr>\n",
              "    <tr>\n",
              "      <th>1</th>\n",
              "      <td>15.0</td>\n",
              "      <td>8</td>\n",
              "      <td>350.0</td>\n",
              "      <td>165.0</td>\n",
              "      <td>3693</td>\n",
              "      <td>11.5</td>\n",
              "      <td>70</td>\n",
              "      <td>1</td>\n",
              "      <td>buick skylark 320</td>\n",
              "    </tr>\n",
              "    <tr>\n",
              "      <th>2</th>\n",
              "      <td>18.0</td>\n",
              "      <td>8</td>\n",
              "      <td>318.0</td>\n",
              "      <td>150.0</td>\n",
              "      <td>3436</td>\n",
              "      <td>11.0</td>\n",
              "      <td>70</td>\n",
              "      <td>1</td>\n",
              "      <td>plymouth satellite</td>\n",
              "    </tr>\n",
              "    <tr>\n",
              "      <th>3</th>\n",
              "      <td>16.0</td>\n",
              "      <td>8</td>\n",
              "      <td>304.0</td>\n",
              "      <td>150.0</td>\n",
              "      <td>3433</td>\n",
              "      <td>12.0</td>\n",
              "      <td>70</td>\n",
              "      <td>1</td>\n",
              "      <td>amc rebel sst</td>\n",
              "    </tr>\n",
              "    <tr>\n",
              "      <th>4</th>\n",
              "      <td>17.0</td>\n",
              "      <td>8</td>\n",
              "      <td>302.0</td>\n",
              "      <td>140.0</td>\n",
              "      <td>3449</td>\n",
              "      <td>10.5</td>\n",
              "      <td>70</td>\n",
              "      <td>1</td>\n",
              "      <td>ford torino</td>\n",
              "    </tr>\n",
              "  </tbody>\n",
              "</table>\n",
              "</div>"
            ],
            "text/plain": [
              "    mpg  cylinders  displacement  ...  year  origin                       name\n",
              "0  18.0          8         307.0  ...    70       1  chevrolet chevelle malibu\n",
              "1  15.0          8         350.0  ...    70       1          buick skylark 320\n",
              "2  18.0          8         318.0  ...    70       1         plymouth satellite\n",
              "3  16.0          8         304.0  ...    70       1              amc rebel sst\n",
              "4  17.0          8         302.0  ...    70       1                ford torino\n",
              "\n",
              "[5 rows x 9 columns]"
            ]
          },
          "metadata": {
            "tags": []
          },
          "execution_count": 2
        }
      ]
    },
    {
      "cell_type": "code",
      "metadata": {
        "id": "y3Z635IfqE7e"
      },
      "source": [
        "#จากคราวที่แล้ว\n",
        "\n",
        "# β₀\n",
        "beta_0 = 39.9359\n",
        "\n",
        "# β₁\n",
        "beta_1 = -0.1578\n",
        "\n",
        "\n",
        "# SE(β₀)\n",
        "SE_beta_0 = 0.717\n",
        "\n",
        "# SE(β₁)\n",
        "SE_beta_1 = 0.006"
      ],
      "execution_count": 3,
      "outputs": []
    },
    {
      "cell_type": "markdown",
      "metadata": {
        "id": "KPlhPupZqjEI"
      },
      "source": [
        "####คำนวณ t-statistic ของ $\\hat{\\beta}_0$ และ $\\hat{\\beta}_1$\n",
        "\n",
        "$$t = \\frac{\\hat{\\beta}_i-0}{\\text{SE}(\\hat{\\beta}_i)}, \\ \\ \\ \\ \\ i=0,1$$\n",
        "\n"
      ]
    },
    {
      "cell_type": "code",
      "metadata": {
        "id": "798_WXWpqilO"
      },
      "source": [
        "# TODO: t-statistic given by t = (β - 0) / SE(β)\n",
        "\n",
        "t_beta_0 = beta_0 / SE_beta_0\n",
        "\n",
        "t_beta_1 = beta_1 / SE_beta_1"
      ],
      "execution_count": 5,
      "outputs": []
    },
    {
      "cell_type": "code",
      "metadata": {
        "id": "yhFZpgyzrOw8",
        "outputId": "e2916b16-036d-4b53-b1c3-8b1bc2f94207",
        "colab": {
          "base_uri": "https://localhost:8080/"
        }
      },
      "source": [
        "# Run the following code to compute the p-values\n",
        "\n",
        "# p-value of t_beta_0\n",
        "p_beta_0 = 2*(1 - stats.t.cdf(auto_df.shape[0], np.abs(t_beta_0)))\n",
        "\n",
        "# p-value of t_beta_1\n",
        "p_beta_1 = 2*(1 - stats.t.cdf(auto_df.shape[0], np.abs(t_beta_1)))\n",
        "\n",
        "print(f\"p-value t_beta_0 : {p_beta_0}\")\n",
        "print(f\"p-value t_beta_1 : {p_beta_1}\")"
      ],
      "execution_count": 9,
      "outputs": [
        {
          "output_type": "stream",
          "text": [
            "p-value t_beta_0 : 0.0\n",
            "p-value t_beta_1 : 0.0\n"
          ],
          "name": "stdout"
        }
      ]
    },
    {
      "cell_type": "markdown",
      "metadata": {
        "id": "Qy6Nn9tUr77O"
      },
      "source": [
        "###Exercise: สามารถสรุปได้หรือไม่ว่า $\\beta_0\\not= 0 $ และ $\\beta_1\\not= 0 $ เพราะเหตุใด"
      ]
    },
    {
      "cell_type": "markdown",
      "metadata": {
        "id": "HrU1yGfPr9Nj"
      },
      "source": [
        "ที่ระดับนัยสำคัญ $\\alpha = 0.05$\r\n",
        "\r\n",
        "ค่า p-value ของแต่ละตัวมีค่าน้อยกว่า 0.05 จึงปฎิเสธสมมติฐาน\r\n",
        "\r\n",
        "ดังนั้น $\\beta_0\\neq 0 $ และ $\\beta_1\\neq 0 $"
      ]
    },
    {
      "cell_type": "markdown",
      "metadata": {
        "id": "uVUJagbLsGKb"
      },
      "source": [
        "## Multivariate Linear Regression (การถดถอยเชิงเส้นพหุ)"
      ]
    },
    {
      "cell_type": "markdown",
      "metadata": {
        "id": "es1_uN5S94_7"
      },
      "source": [
        "### ตัวแปรต่าง ๆ มีดังนี้\n",
        "mpg\n",
        "\n",
        "    miles per gallon\n",
        "cylinders\n",
        "\n",
        "    Number of cylinders between 4 and 8\n",
        "displacement\n",
        "\n",
        "    Engine displacement (cu. inches)\n",
        "horsepower\n",
        "\n",
        "    Engine horsepower\n",
        "weight\n",
        "\n",
        "    Vehicle weight (lbs.)\n",
        "acceleration\n",
        "\n",
        "    Time to accelerate from 0 to 60 mph (sec.)\n",
        "year\n",
        "\n",
        "    Model year (modulo 100)\n",
        "origin\n",
        "\n",
        "    Origin of car (1. American, 2. European, 3. Japanese)\n",
        "name\n",
        "\n",
        "    Vehicle name\n"
      ]
    },
    {
      "cell_type": "code",
      "metadata": {
        "id": "XlOmwZlvQXAR",
        "colab": {
          "base_uri": "https://localhost:8080/",
          "height": 206
        },
        "outputId": "b10a1f79-78e8-4cc0-96c5-70792befd054"
      },
      "source": [
        "auto_df = auto_df.drop(['name', 'origin'],axis=1)\n",
        "\n",
        "auto_df.head()"
      ],
      "execution_count": 10,
      "outputs": [
        {
          "output_type": "execute_result",
          "data": {
            "text/html": [
              "<div>\n",
              "<style scoped>\n",
              "    .dataframe tbody tr th:only-of-type {\n",
              "        vertical-align: middle;\n",
              "    }\n",
              "\n",
              "    .dataframe tbody tr th {\n",
              "        vertical-align: top;\n",
              "    }\n",
              "\n",
              "    .dataframe thead th {\n",
              "        text-align: right;\n",
              "    }\n",
              "</style>\n",
              "<table border=\"1\" class=\"dataframe\">\n",
              "  <thead>\n",
              "    <tr style=\"text-align: right;\">\n",
              "      <th></th>\n",
              "      <th>mpg</th>\n",
              "      <th>cylinders</th>\n",
              "      <th>displacement</th>\n",
              "      <th>horsepower</th>\n",
              "      <th>weight</th>\n",
              "      <th>acceleration</th>\n",
              "      <th>year</th>\n",
              "    </tr>\n",
              "  </thead>\n",
              "  <tbody>\n",
              "    <tr>\n",
              "      <th>0</th>\n",
              "      <td>18.0</td>\n",
              "      <td>8</td>\n",
              "      <td>307.0</td>\n",
              "      <td>130.0</td>\n",
              "      <td>3504</td>\n",
              "      <td>12.0</td>\n",
              "      <td>70</td>\n",
              "    </tr>\n",
              "    <tr>\n",
              "      <th>1</th>\n",
              "      <td>15.0</td>\n",
              "      <td>8</td>\n",
              "      <td>350.0</td>\n",
              "      <td>165.0</td>\n",
              "      <td>3693</td>\n",
              "      <td>11.5</td>\n",
              "      <td>70</td>\n",
              "    </tr>\n",
              "    <tr>\n",
              "      <th>2</th>\n",
              "      <td>18.0</td>\n",
              "      <td>8</td>\n",
              "      <td>318.0</td>\n",
              "      <td>150.0</td>\n",
              "      <td>3436</td>\n",
              "      <td>11.0</td>\n",
              "      <td>70</td>\n",
              "    </tr>\n",
              "    <tr>\n",
              "      <th>3</th>\n",
              "      <td>16.0</td>\n",
              "      <td>8</td>\n",
              "      <td>304.0</td>\n",
              "      <td>150.0</td>\n",
              "      <td>3433</td>\n",
              "      <td>12.0</td>\n",
              "      <td>70</td>\n",
              "    </tr>\n",
              "    <tr>\n",
              "      <th>4</th>\n",
              "      <td>17.0</td>\n",
              "      <td>8</td>\n",
              "      <td>302.0</td>\n",
              "      <td>140.0</td>\n",
              "      <td>3449</td>\n",
              "      <td>10.5</td>\n",
              "      <td>70</td>\n",
              "    </tr>\n",
              "  </tbody>\n",
              "</table>\n",
              "</div>"
            ],
            "text/plain": [
              "    mpg  cylinders  displacement  horsepower  weight  acceleration  year\n",
              "0  18.0          8         307.0       130.0    3504          12.0    70\n",
              "1  15.0          8         350.0       165.0    3693          11.5    70\n",
              "2  18.0          8         318.0       150.0    3436          11.0    70\n",
              "3  16.0          8         304.0       150.0    3433          12.0    70\n",
              "4  17.0          8         302.0       140.0    3449          10.5    70"
            ]
          },
          "metadata": {
            "tags": []
          },
          "execution_count": 10
        }
      ]
    },
    {
      "cell_type": "markdown",
      "metadata": {
        "id": "Mo4ddcb7BZj4"
      },
      "source": [
        "เปลี่ยน $\\texttt{dataframe}$ ให้เป็น numpy array ด้วย $\\texttt{dataframe.to_numpy()}$  \n",
        "\n",
        "1. Response: $\\texttt{y}$ เป็นคอลัมน์เวกเตอร์ของ $\\texttt{mpg}$\n",
        "2. Predictors: $\\texttt{X}$ เป็นเมทริกซ์ของตัวแปรที่เหลือ (ใช้ $\\texttt{auto_df.drop}$)\n"
      ]
    },
    {
      "cell_type": "code",
      "metadata": {
        "id": "6njJmujsAUNv"
      },
      "source": [
        "y = auto_df['mpg'].to_numpy()\n",
        "X = auto_df.drop(['mpg'],axis=1).to_numpy()"
      ],
      "execution_count": 11,
      "outputs": []
    },
    {
      "cell_type": "markdown",
      "metadata": {
        "id": "H5CxnhqJEmUN"
      },
      "source": [
        "คอลัมน์แรกของ $\\texttt{X}$ ต้องเป็น $(1, 1, \\ldots ,1 )^T$ (จำนวนเลข 1 เท่ากับจำนวนแถวของ $\\texttt{X}$)  \n",
        "จงสร้างเวกเตอร์ที่มีแต่เลข 1 และมีความยาวที่เหมาะสมด้วยคำสั่งใดคำสั่งหนึ่งต่อไปนี้  \n",
        "1. $\\texttt{[1]*n}$  \n",
        "2. $\\texttt{np.ones(n)}$  \n",
        "\n",
        "โดยที่ n คือจำนวนแถวของ $\\texttt{X}$ (Hint: ใช้ $\\texttt{X.shape[0]}$)"
      ]
    },
    {
      "cell_type": "code",
      "metadata": {
        "id": "zoO80UAEm6g5"
      },
      "source": [
        "n = X.shape[0]"
      ],
      "execution_count": 12,
      "outputs": []
    },
    {
      "cell_type": "code",
      "metadata": {
        "id": "V19Bth9i9mio",
        "colab": {
          "base_uri": "https://localhost:8080/"
        },
        "outputId": "88d7fee1-52ac-435a-c7d6-f13aed49e10a"
      },
      "source": [
        "print(X)"
      ],
      "execution_count": 13,
      "outputs": [
        {
          "output_type": "stream",
          "text": [
            "[[   8.   307.   130.  3504.    12.    70. ]\n",
            " [   8.   350.   165.  3693.    11.5   70. ]\n",
            " [   8.   318.   150.  3436.    11.    70. ]\n",
            " ...\n",
            " [   4.   135.    84.  2295.    11.6   82. ]\n",
            " [   4.   120.    79.  2625.    18.6   82. ]\n",
            " [   4.   119.    82.  2720.    19.4   82. ]]\n"
          ],
          "name": "stdout"
        }
      ]
    },
    {
      "cell_type": "code",
      "metadata": {
        "id": "kD8uzgohDRIX"
      },
      "source": [
        "#one dimensional array consisting of only 1's\n",
        "ones = np.ones(auto_df.shape[0])\n",
        "\n",
        "#ใส่ ones ให้เป็นคอลัมน์แรกของ X\n",
        "X = np.c_[ones,X]"
      ],
      "execution_count": 14,
      "outputs": []
    },
    {
      "cell_type": "code",
      "metadata": {
        "id": "yyk9EnXdD0ZU",
        "colab": {
          "base_uri": "https://localhost:8080/"
        },
        "outputId": "35f8ca79-426e-4b48-8ea1-367a32601a45"
      },
      "source": [
        "#เช็คคำตอบ\n",
        "print(X)"
      ],
      "execution_count": 15,
      "outputs": [
        {
          "output_type": "stream",
          "text": [
            "[[1.000e+00 8.000e+00 3.070e+02 ... 3.504e+03 1.200e+01 7.000e+01]\n",
            " [1.000e+00 8.000e+00 3.500e+02 ... 3.693e+03 1.150e+01 7.000e+01]\n",
            " [1.000e+00 8.000e+00 3.180e+02 ... 3.436e+03 1.100e+01 7.000e+01]\n",
            " ...\n",
            " [1.000e+00 4.000e+00 1.350e+02 ... 2.295e+03 1.160e+01 8.200e+01]\n",
            " [1.000e+00 4.000e+00 1.200e+02 ... 2.625e+03 1.860e+01 8.200e+01]\n",
            " [1.000e+00 4.000e+00 1.190e+02 ... 2.720e+03 1.940e+01 8.200e+01]]\n"
          ],
          "name": "stdout"
        }
      ]
    },
    {
      "cell_type": "markdown",
      "metadata": {
        "id": "DntRinCFiSMx"
      },
      "source": [
        "หาเวกเตอร์ของสัมประสิทธิ์ $\\boldsymbol{\\hat\\beta}$ ได้จาก\n",
        "$$ \\boldsymbol{\\hat\\beta} = (X^TX)^{-1}X^Ty $$\n",
        "\n",
        "ทำนายค่าของตัวแปรตาม ($\\boldsymbol{\\hat Y}$) โดยใช้\n",
        "\n",
        "$$ \\boldsymbol{\\hat Y} = X\\boldsymbol{\\hat \\beta}$$\n",
        "\n",
        "numpy method ที่ต้องใช้มีดังนี้\n",
        "1. Matrix multiplication $AB = \\texttt{A@B}$\n",
        "2. Transpose: $X^T = \\texttt{X.T}$\n",
        "3. Inverse: $X^{-1} = \\texttt{np.linalg.inv(X)}$"
      ]
    },
    {
      "cell_type": "code",
      "metadata": {
        "id": "-gCRXKb8fkuH"
      },
      "source": [
        "# Let's start by implementing linear regression from scratch\n",
        "# using numpy linear algebra\n",
        "\n",
        "\n",
        "def linear_model(X, y):\n",
        "    \"\"\"X: เมทริกซ์ของตัวแปรต้น\"\"\"\n",
        "    \"\"\"y: เวกเตอร์ของตัวแปรตาม\"\"\"\n",
        "    \"\"\"Return: เวกเตอร์ของ parameter beta จากการสร้าง linear regressions model\n",
        "    ด้วย Ordinary Least Squares (OLS)\"\"\"\n",
        "\n",
        "    #TODO: fill code here\n",
        "\n",
        "    beta = (np.linalg.inv(X.T@X)) @ (X.T@y)\n",
        "\n",
        "    return beta \n",
        "\n",
        "def predict(X, beta):\n",
        "    \"\"\"beta: array ของสัมประสิทธิ์\"\"\"\n",
        "    \"\"\"X: เมทริกซ์ของตัวแปรต้น\"\"\" \n",
        "    \"\"\"Return: ค่าทำนาย y_pred = X*beta \"\"\"\n",
        "    \n",
        "    return X@beta       #TODO: fill code here"
      ],
      "execution_count": 16,
      "outputs": []
    },
    {
      "cell_type": "code",
      "metadata": {
        "id": "-QbEbw2lpYI-",
        "outputId": "b363fe35-e6c7-49a1-be24-21f6ddf6cb45",
        "colab": {
          "base_uri": "https://localhost:8080/"
        }
      },
      "source": [
        "beta = linear_model(X, y)\n",
        "y_pred = predict(X, beta)\n",
        "\n",
        "print(beta)"
      ],
      "execution_count": 17,
      "outputs": [
        {
          "output_type": "stream",
          "text": [
            "[-1.45352505e+01 -3.29859089e-01  7.67843024e-03 -3.91355574e-04\n",
            " -6.79461791e-03  8.52732469e-02  7.53367180e-01]\n"
          ],
          "name": "stdout"
        }
      ]
    },
    {
      "cell_type": "markdown",
      "metadata": {
        "id": "L1UMYiD5q5bq"
      },
      "source": [
        "#### จงหา $n$ (จำนวนแถวของ $\\texttt{X}$) และ $p$ (จำนวนตัวแปร) ด้วย method $\\texttt{X.shape[...]}$"
      ]
    },
    {
      "cell_type": "code",
      "metadata": {
        "id": "_vthb9XCiYfo",
        "colab": {
          "base_uri": "https://localhost:8080/"
        },
        "outputId": "8b61aa63-05e6-4b4a-d0d9-6391b24230ba"
      },
      "source": [
        "n = X.shape[0]\n",
        "\n",
        "p = X.shape[1]-1\n",
        "\n",
        "print('Number of observations: ',n)\n",
        "print('Number of variables: ',p)"
      ],
      "execution_count": 18,
      "outputs": [
        {
          "output_type": "stream",
          "text": [
            "Number of observations:  392\n",
            "Number of variables:  6\n"
          ],
          "name": "stdout"
        }
      ]
    },
    {
      "cell_type": "markdown",
      "metadata": {
        "id": "GLgL-R7g0pTa"
      },
      "source": [
        "####วิธีการคำนวณ Residual Standard Error (RSE)  \n",
        "\n",
        "จาก\n",
        "\n",
        "$$ \\text{RSS} = \\sum_{i=1}^n (y_i-\\hat{y}_i)^2$$\n",
        "\n",
        "คำนวณ RSE ได้ดังนี้\n",
        "\n",
        "$$ \\text{RSE} = \\sqrt{\\frac{RSS}{n-p-1}} $$"
      ]
    },
    {
      "cell_type": "code",
      "metadata": {
        "id": "ba23L6uE0_NC"
      },
      "source": [
        "#TODO: compute RSS and RSE\n",
        "\n",
        "RSS = np.sum(np.square(y-y_pred))\n",
        "\n",
        "\n",
        "RSE = np.sqrt(RSS/(n-p-1))\n"
      ],
      "execution_count": 19,
      "outputs": []
    },
    {
      "cell_type": "markdown",
      "metadata": {
        "id": "tqmOPP4ctv7S"
      },
      "source": [
        "####วิธีการคำนวณ Standard Error (SE)  \n",
        "\\begin{align*} \\text{SE}(\\boldsymbol{\\hat{\\beta}}) &=\\text{RSE}\\cdot\\sqrt{\\text{diag}\\left( (X^TX)^{-1}\\right)} \\\\\n",
        "t &= \\frac{\\hat{\\beta}_i}{\\text{SE}(\\hat{\\beta}_i)}\n",
        "\\end{align*}\n",
        "\n",
        "ใช้คำสั่ง $\\texttt{A.diagonal()}$ เพื่อหาสมาชิกในแนวทแยงของ $\\texttt{A}$"
      ]
    },
    {
      "cell_type": "code",
      "metadata": {
        "id": "3nqKRDqJ08U5"
      },
      "source": [
        "#TODO: compute the array of standard errors and t-statistics\n",
        "\n",
        "# array of standard errors: [SE(β₀), SE(β₁), ... , SE(βₚ)]\n",
        "inv = np.linalg.inv(X.T@X)\n",
        "SE_beta = RSE*np.sqrt(inv.diagonal())\n",
        "\n",
        "# array of t-statistics: [t_β₀, t_β₁, ... , t_βₚ]\n",
        "t = beta / SE_beta"
      ],
      "execution_count": 21,
      "outputs": []
    },
    {
      "cell_type": "code",
      "metadata": {
        "id": "IJwkRoYlt8U_",
        "outputId": "57818244-7549-4273-bcd3-c23326843d0a",
        "colab": {
          "base_uri": "https://localhost:8080/"
        }
      },
      "source": [
        "def t_to_p_values(t_statistics):\n",
        "  \"\"\"t_statistics: numpy array ของค่า t-statistic ของตัวแปรต่างๆ\"\"\"\n",
        "  \"\"\"Return: เวกเตอร์ของค่า p-value ของค่า t-statistic ที่ให้มา\"\"\"\n",
        "  return stats.t.sf(np.abs(t_statistics), n-p-1)*2\n",
        "# Standard error of each variable in X\n",
        "\n",
        "\n",
        "p = t_to_p_values(t)\n",
        "\n",
        "print(p)"
      ],
      "execution_count": 22,
      "outputs": [
        {
          "output_type": "stream",
          "text": [
            "[2.43774108e-03 3.21216868e-01 2.97331805e-01 9.77450101e-01\n",
            " 1.41618989e-21 4.03830330e-01 1.41042759e-37]\n"
          ],
          "name": "stdout"
        }
      ]
    },
    {
      "cell_type": "code",
      "metadata": {
        "id": "eQY3GVyr6IPW",
        "outputId": "4cc2fdbf-49b0-4215-80a0-7af6380ac2c9",
        "colab": {
          "base_uri": "https://localhost:8080/",
          "height": 269
        }
      },
      "source": [
        "# Present results\n",
        "results = pd.DataFrame({'feature': np.r_[['Intercept'], \n",
        "                                         auto_df.drop(['mpg'],axis=1).columns.values],\n",
        "                        'coefficients': beta,\n",
        "                        'standard_error': SE_beta,\n",
        "                        't-statistic': t,\n",
        "                        'p-value': p})\n",
        "\n",
        "results"
      ],
      "execution_count": 23,
      "outputs": [
        {
          "output_type": "execute_result",
          "data": {
            "text/html": [
              "<div>\n",
              "<style scoped>\n",
              "    .dataframe tbody tr th:only-of-type {\n",
              "        vertical-align: middle;\n",
              "    }\n",
              "\n",
              "    .dataframe tbody tr th {\n",
              "        vertical-align: top;\n",
              "    }\n",
              "\n",
              "    .dataframe thead th {\n",
              "        text-align: right;\n",
              "    }\n",
              "</style>\n",
              "<table border=\"1\" class=\"dataframe\">\n",
              "  <thead>\n",
              "    <tr style=\"text-align: right;\">\n",
              "      <th></th>\n",
              "      <th>feature</th>\n",
              "      <th>coefficients</th>\n",
              "      <th>standard_error</th>\n",
              "      <th>t-statistic</th>\n",
              "      <th>p-value</th>\n",
              "    </tr>\n",
              "  </thead>\n",
              "  <tbody>\n",
              "    <tr>\n",
              "      <th>0</th>\n",
              "      <td>Intercept</td>\n",
              "      <td>-14.535250</td>\n",
              "      <td>4.763882</td>\n",
              "      <td>-3.051136</td>\n",
              "      <td>2.437741e-03</td>\n",
              "    </tr>\n",
              "    <tr>\n",
              "      <th>1</th>\n",
              "      <td>cylinders</td>\n",
              "      <td>-0.329859</td>\n",
              "      <td>0.332104</td>\n",
              "      <td>-0.993240</td>\n",
              "      <td>3.212169e-01</td>\n",
              "    </tr>\n",
              "    <tr>\n",
              "      <th>2</th>\n",
              "      <td>displacement</td>\n",
              "      <td>0.007678</td>\n",
              "      <td>0.007358</td>\n",
              "      <td>1.043586</td>\n",
              "      <td>2.973318e-01</td>\n",
              "    </tr>\n",
              "    <tr>\n",
              "      <th>3</th>\n",
              "      <td>horsepower</td>\n",
              "      <td>-0.000391</td>\n",
              "      <td>0.013837</td>\n",
              "      <td>-0.028284</td>\n",
              "      <td>9.774501e-01</td>\n",
              "    </tr>\n",
              "    <tr>\n",
              "      <th>4</th>\n",
              "      <td>weight</td>\n",
              "      <td>-0.006795</td>\n",
              "      <td>0.000670</td>\n",
              "      <td>-10.140877</td>\n",
              "      <td>1.416190e-21</td>\n",
              "    </tr>\n",
              "    <tr>\n",
              "      <th>5</th>\n",
              "      <td>acceleration</td>\n",
              "      <td>0.085273</td>\n",
              "      <td>0.102036</td>\n",
              "      <td>0.835721</td>\n",
              "      <td>4.038303e-01</td>\n",
              "    </tr>\n",
              "    <tr>\n",
              "      <th>6</th>\n",
              "      <td>year</td>\n",
              "      <td>0.753367</td>\n",
              "      <td>0.052618</td>\n",
              "      <td>14.317630</td>\n",
              "      <td>1.410428e-37</td>\n",
              "    </tr>\n",
              "  </tbody>\n",
              "</table>\n",
              "</div>"
            ],
            "text/plain": [
              "        feature  coefficients  standard_error  t-statistic       p-value\n",
              "0     Intercept    -14.535250        4.763882    -3.051136  2.437741e-03\n",
              "1     cylinders     -0.329859        0.332104    -0.993240  3.212169e-01\n",
              "2  displacement      0.007678        0.007358     1.043586  2.973318e-01\n",
              "3    horsepower     -0.000391        0.013837    -0.028284  9.774501e-01\n",
              "4        weight     -0.006795        0.000670   -10.140877  1.416190e-21\n",
              "5  acceleration      0.085273        0.102036     0.835721  4.038303e-01\n",
              "6          year      0.753367        0.052618    14.317630  1.410428e-37"
            ]
          },
          "metadata": {
            "tags": []
          },
          "execution_count": 23
        }
      ]
    },
    {
      "cell_type": "markdown",
      "metadata": {
        "id": "Vj5SpQf0zCLK"
      },
      "source": [
        "###Exercise: จงใช้ฟังก์ชัน $\\texttt{t_to_p_values}$ ข้างบนในการหาว่ามีตัวแปรใดบ้างที่มีค่า p-value น้อยกว่า 0.05 "
      ]
    },
    {
      "cell_type": "markdown",
      "metadata": {
        "id": "61K108Bjcjw5"
      },
      "source": [
        "คำตอบ: Intercept ($\\beta_0$), weight, year"
      ]
    },
    {
      "cell_type": "markdown",
      "metadata": {
        "id": "kvxBs5Hlk5rZ"
      },
      "source": [
        "#### statsmodels library สามารถคำนวณค่าต่างๆ เหล่านี้ได้ ผลที่แสดงจะคล้ายกับใน R  \n",
        "#### มีสองวิธึในการทำ linear regression: $\\texttt{statsmodels.api.sm.OLS}$ \n",
        "#### และ $\\texttt{statsmodels.formula.api.smf.ols}$"
      ]
    },
    {
      "cell_type": "code",
      "metadata": {
        "id": "2srU_UiTbhS9",
        "colab": {
          "base_uri": "https://localhost:8080/"
        },
        "outputId": "657ba4de-5990-4aa5-fa7a-1a6135fd014b"
      },
      "source": [
        "# The statsmodels library provides a convenient means to get the\n",
        "# same statistics\n",
        "import statsmodels.api as sm\n",
        "\n",
        "X_sm = auto_df.drop(['mpg'], axis=1)\n",
        "X_sm = sm.add_constant(X)     # add bias constant\n",
        "y_sm = auto_df['mpg']\n",
        "\n",
        "# add bias constant; \n",
        "#without this the equation turns into y = βx\n",
        "\n",
        "# syntax is OLS(response, predictor)\n",
        "model = sm.OLS(y_sm, X_sm).fit()\n",
        "print(model.summary())"
      ],
      "execution_count": 24,
      "outputs": [
        {
          "output_type": "stream",
          "text": [
            "/usr/local/lib/python3.6/dist-packages/statsmodels/tools/_testing.py:19: FutureWarning: pandas.util.testing is deprecated. Use the functions in the public API at pandas.testing instead.\n",
            "  import pandas.util.testing as tm\n"
          ],
          "name": "stderr"
        },
        {
          "output_type": "stream",
          "text": [
            "                            OLS Regression Results                            \n",
            "==============================================================================\n",
            "Dep. Variable:                    mpg   R-squared:                       0.809\n",
            "Model:                            OLS   Adj. R-squared:                  0.806\n",
            "Method:                 Least Squares   F-statistic:                     272.2\n",
            "Date:                Sat, 16 Jan 2021   Prob (F-statistic):          3.79e-135\n",
            "Time:                        15:17:23   Log-Likelihood:                -1036.5\n",
            "No. Observations:                 392   AIC:                             2087.\n",
            "Df Residuals:                     385   BIC:                             2115.\n",
            "Df Model:                           6                                         \n",
            "Covariance Type:            nonrobust                                         \n",
            "==============================================================================\n",
            "                 coef    std err          t      P>|t|      [0.025      0.975]\n",
            "------------------------------------------------------------------------------\n",
            "const        -14.5353      4.764     -3.051      0.002     -23.902      -5.169\n",
            "x1            -0.3299      0.332     -0.993      0.321      -0.983       0.323\n",
            "x2             0.0077      0.007      1.044      0.297      -0.007       0.022\n",
            "x3            -0.0004      0.014     -0.028      0.977      -0.028       0.027\n",
            "x4            -0.0068      0.001    -10.141      0.000      -0.008      -0.005\n",
            "x5             0.0853      0.102      0.836      0.404      -0.115       0.286\n",
            "x6             0.7534      0.053     14.318      0.000       0.650       0.857\n",
            "==============================================================================\n",
            "Omnibus:                       37.865   Durbin-Watson:                   1.232\n",
            "Prob(Omnibus):                  0.000   Jarque-Bera (JB):               60.248\n",
            "Skew:                           0.630   Prob(JB):                     8.26e-14\n",
            "Kurtosis:                       4.449   Cond. No.                     8.53e+04\n",
            "==============================================================================\n",
            "\n",
            "Warnings:\n",
            "[1] Standard Errors assume that the covariance matrix of the errors is correctly specified.\n",
            "[2] The condition number is large, 8.53e+04. This might indicate that there are\n",
            "strong multicollinearity or other numerical problems.\n"
          ],
          "name": "stdout"
        }
      ]
    },
    {
      "cell_type": "code",
      "metadata": {
        "id": "VoHIDpY58fMi",
        "colab": {
          "base_uri": "https://localhost:8080/"
        },
        "outputId": "5ac35225-9b4b-4793-e5d8-e298abd2c61a"
      },
      "source": [
        "import statsmodels.formula.api as smf\n",
        "\n",
        "#syntax is ols(formula, dataset)\n",
        "model = smf.ols('mpg ~ cylinders + displacement + \\\n",
        "                      horsepower + weight + \\\n",
        "                      acceleration+year', auto_df)\n",
        "results = model.fit()\n",
        "print(results.summary())"
      ],
      "execution_count": 25,
      "outputs": [
        {
          "output_type": "stream",
          "text": [
            "                            OLS Regression Results                            \n",
            "==============================================================================\n",
            "Dep. Variable:                    mpg   R-squared:                       0.809\n",
            "Model:                            OLS   Adj. R-squared:                  0.806\n",
            "Method:                 Least Squares   F-statistic:                     272.2\n",
            "Date:                Sat, 16 Jan 2021   Prob (F-statistic):          3.79e-135\n",
            "Time:                        15:17:29   Log-Likelihood:                -1036.5\n",
            "No. Observations:                 392   AIC:                             2087.\n",
            "Df Residuals:                     385   BIC:                             2115.\n",
            "Df Model:                           6                                         \n",
            "Covariance Type:            nonrobust                                         \n",
            "================================================================================\n",
            "                   coef    std err          t      P>|t|      [0.025      0.975]\n",
            "--------------------------------------------------------------------------------\n",
            "Intercept      -14.5353      4.764     -3.051      0.002     -23.902      -5.169\n",
            "cylinders       -0.3299      0.332     -0.993      0.321      -0.983       0.323\n",
            "displacement     0.0077      0.007      1.044      0.297      -0.007       0.022\n",
            "horsepower      -0.0004      0.014     -0.028      0.977      -0.028       0.027\n",
            "weight          -0.0068      0.001    -10.141      0.000      -0.008      -0.005\n",
            "acceleration     0.0853      0.102      0.836      0.404      -0.115       0.286\n",
            "year             0.7534      0.053     14.318      0.000       0.650       0.857\n",
            "==============================================================================\n",
            "Omnibus:                       37.865   Durbin-Watson:                   1.232\n",
            "Prob(Omnibus):                  0.000   Jarque-Bera (JB):               60.248\n",
            "Skew:                           0.630   Prob(JB):                     8.26e-14\n",
            "Kurtosis:                       4.449   Cond. No.                     8.53e+04\n",
            "==============================================================================\n",
            "\n",
            "Warnings:\n",
            "[1] Standard Errors assume that the covariance matrix of the errors is correctly specified.\n",
            "[2] The condition number is large, 8.53e+04. This might indicate that there are\n",
            "strong multicollinearity or other numerical problems.\n"
          ],
          "name": "stdout"
        }
      ]
    },
    {
      "cell_type": "code",
      "metadata": {
        "id": "5_bbpzkW8hBb",
        "outputId": "5865e9be-7399-4583-8695-ea3bd78f1b91",
        "colab": {
          "base_uri": "https://localhost:8080/"
        }
      },
      "source": [
        "auto_df.columns"
      ],
      "execution_count": 26,
      "outputs": [
        {
          "output_type": "execute_result",
          "data": {
            "text/plain": [
              "Index(['mpg', 'cylinders', 'displacement', 'horsepower', 'weight',\n",
              "       'acceleration', 'year'],\n",
              "      dtype='object')"
            ]
          },
          "metadata": {
            "tags": []
          },
          "execution_count": 26
        }
      ]
    }
  ]
}