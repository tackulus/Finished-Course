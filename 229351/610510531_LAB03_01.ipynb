{
  "nbformat": 4,
  "nbformat_minor": 0,
  "metadata": {
    "colab": {
      "name": "229351-LAB03-01.ipynb",
      "provenance": [],
      "collapsed_sections": [],
      "include_colab_link": true
    },
    "kernelspec": {
      "name": "python3",
      "display_name": "Python 3"
    }
  },
  "cells": [
    {
      "cell_type": "markdown",
      "metadata": {
        "id": "view-in-github",
        "colab_type": "text"
      },
      "source": [
        "<a href=\"https://colab.research.google.com/github/tackulus/229351/blob/main/610510531_LAB03_01.ipynb\" target=\"_parent\"><img src=\"https://colab.research.google.com/assets/colab-badge.svg\" alt=\"Open In Colab\"/></a>"
      ]
    },
    {
      "cell_type": "markdown",
      "metadata": {
        "id": "rUWDxJYaXbGS"
      },
      "source": [
        "ปฏิบัติการครั้งที่ 3 กระบวนวิชา 229351 Statistical Learning for Data Science\n"
      ]
    },
    {
      "cell_type": "markdown",
      "metadata": {
        "id": "40DP82euz0nP"
      },
      "source": [
        "###ในปฏิบัติการนี้เราจะฝึกการทำ PCA ด้วยสองวิธี คือ\n",
        "1. หาด้วยการแยกส่วนประกอบของเมทริกซ์ผ่าน numpy\n",
        "2. หาด้วยการใช้เครื่องมือที่มีมาให้ใน scikit-learn"
      ]
    },
    {
      "cell_type": "markdown",
      "metadata": {
        "id": "rr5sXKql7m_T"
      },
      "source": [
        "####ตัวอย่าง 1: แยกตัวประกอบ (spectral decomposition) ของเมทริกซ์ต่อไปนี้\n",
        "\n",
        "$$\n",
        "M=\\begin{pmatrix} 3 & 4 & 6 \\\\ 2 & 4 & 6 \\\\ 7 & 8 & 3 \\end{pmatrix}$$"
      ]
    },
    {
      "cell_type": "code",
      "metadata": {
        "id": "W4mkSzTBalJi",
        "colab": {
          "base_uri": "https://localhost:8080/"
        },
        "outputId": "4c976219-962b-48fa-c881-7f694dee8f03"
      },
      "source": [
        "import numpy as np\n",
        "\n",
        "# เริ่มจากตัวอย่าง 3x3 เมทริกซ์\n",
        "\n",
        "M = np.array([[3,4,6],\n",
        "              [2,4,6],\n",
        "              [7,8,3]])\n",
        "\n",
        "# print(np.mean(M, axis = 0))\n",
        "\n",
        "M = M - np.mean(M, axis = 0)  #normalize the columns\n",
        "\n",
        "# print(M)\n",
        "\n",
        "# np.cov คำนวณ covariance ระหว่างเวกเตอร์แถว แต่เราต้องการ covariance ของ\n",
        "# เวกเตอร์คอลัมน์ของ A จึงต้องทำการ tranpose ก่อนที่จะใส่ np.cov\n",
        "\n",
        "A = np.cov(M, rowvar=False) #covariance matrix of M\n",
        "\n",
        "print(A)"
      ],
      "execution_count": null,
      "outputs": [
        {
          "output_type": "stream",
          "text": [
            "[[ 7.          6.         -4.5       ]\n",
            " [ 6.          5.33333333 -4.        ]\n",
            " [-4.5        -4.          3.        ]]\n"
          ],
          "name": "stdout"
        }
      ]
    },
    {
      "cell_type": "code",
      "metadata": {
        "id": "TKGPbWmBQhH5",
        "colab": {
          "base_uri": "https://localhost:8080/"
        },
        "outputId": "d78d4204-7b2a-4a28-aeb3-a16570de863f"
      },
      "source": [
        "#หา eigenvalues และ eigenvectors ของ A ด้วยฟังก์ชันต่อไปนี้\n",
        "\n",
        "specA = np.linalg.eigh(A)\n",
        "\n",
        "print(specA)"
      ],
      "execution_count": null,
      "outputs": [
        {
          "output_type": "stream",
          "text": [
            "(array([ 0.        ,  0.13709533, 15.196238  ]), array([[ 0.        , -0.7377465 , -0.67507785],\n",
            "       [ 0.6       ,  0.54006228, -0.5901972 ],\n",
            "       [ 0.8       , -0.40504671,  0.4426479 ]]))\n"
          ],
          "name": "stdout"
        }
      ]
    },
    {
      "cell_type": "markdown",
      "metadata": {
        "id": "FMIdO-J28sa9"
      },
      "source": [
        "####SpecA มีสมาชิก 2 ตัว  \n",
        "ตัวที่ 1 คือ Eigenvalues  เรียงจาก**น้อยไปหามาก**  \n",
        "ตัวที่สองคือ Eigenvectors โดยที่ **แต่ละ column คือ eigenvector แต่ละตัว**\n",
        "\n",
        "\\begin{align*}\n",
        "\\texttt{specA[0]} &=  D=[\\lambda_1,\\lambda_2,\\lambda_3] \\\\\n",
        "\\texttt{specA[1]} &=  U^T=\\begin{pmatrix}\\uparrow & \\uparrow & \\uparrow \\\\\n",
        "u_1 & u_2 & u_3 \\\\\n",
        "\\downarrow & \\downarrow & \\downarrow\n",
        "\\end{pmatrix}\n",
        "\\end{align*}"
      ]
    },
    {
      "cell_type": "code",
      "metadata": {
        "id": "i3I_wg018QRX",
        "colab": {
          "base_uri": "https://localhost:8080/"
        },
        "outputId": "0cb6e6c7-a9a0-42be-bfad-a5984e3eb4ca"
      },
      "source": [
        "specA"
      ],
      "execution_count": null,
      "outputs": [
        {
          "output_type": "execute_result",
          "data": {
            "text/plain": [
              "(array([ 0.        ,  0.13709533, 15.196238  ]),\n",
              " array([[ 0.        , -0.7377465 , -0.67507785],\n",
              "        [ 0.6       ,  0.54006228, -0.5901972 ],\n",
              "        [ 0.8       , -0.40504671,  0.4426479 ]]))"
            ]
          },
          "metadata": {
            "tags": []
          },
          "execution_count": 3
        }
      ]
    },
    {
      "cell_type": "code",
      "metadata": {
        "id": "q8H2hkxL_3qN",
        "colab": {
          "base_uri": "https://localhost:8080/"
        },
        "outputId": "eed72078-c78a-4c1f-a6e6-5d5850f955ba"
      },
      "source": [
        "D = specA[0]\n",
        "U = specA[1]\n",
        "\n",
        "print(D)\n",
        "print(U)"
      ],
      "execution_count": null,
      "outputs": [
        {
          "output_type": "stream",
          "text": [
            "[ 0.          0.13709533 15.196238  ]\n",
            "[[ 0.         -0.7377465  -0.67507785]\n",
            " [ 0.6         0.54006228 -0.5901972 ]\n",
            " [ 0.8        -0.40504671  0.4426479 ]]\n"
          ],
          "name": "stdout"
        }
      ]
    },
    {
      "cell_type": "code",
      "metadata": {
        "id": "XE7qG2DhLt1V",
        "colab": {
          "base_uri": "https://localhost:8080/"
        },
        "outputId": "9f2e1638-ffc8-4e2d-88a8-ae8eff985796"
      },
      "source": [
        "#สร้าง diagonal matrix ทีมี eigenvalues ในแนวแทยง\n",
        "\n",
        "diagD = np.diag(D)\n",
        "\n",
        "print(diagD)"
      ],
      "execution_count": null,
      "outputs": [
        {
          "output_type": "stream",
          "text": [
            "[[ 0.          0.          0.        ]\n",
            " [ 0.          0.13709533  0.        ]\n",
            " [ 0.          0.         15.196238  ]]\n"
          ],
          "name": "stdout"
        }
      ]
    },
    {
      "cell_type": "markdown",
      "metadata": {
        "id": "spgyd7MO-jnf"
      },
      "source": [
        "####ลองเช็คว่าการแยกส่วนประกอบของ A ถูกต้องหรือไม่ดัวยสูตร\n",
        "\n",
        "$$A =\\begin{pmatrix}\\uparrow & \\uparrow & \\uparrow \\\\\n",
        "u_1 & u_2 & u_3 \\\\\n",
        "\\downarrow & \\downarrow & \\downarrow\n",
        "\\end{pmatrix}\\begin{pmatrix}\\lambda_1 & 0 & 0 \\\\\n",
        "0 & \\lambda_2 & 0 \\\\\n",
        "0 & 0 & \\lambda_3\n",
        "\\end{pmatrix}\\begin{pmatrix}\\leftarrow & u_1 & \\rightarrow \\\\\n",
        "\\leftarrow & u_2 & \\rightarrow \\\\\n",
        "\\leftarrow & u_3 & \\rightarrow\n",
        "\\end{pmatrix}$$ "
      ]
    },
    {
      "cell_type": "code",
      "metadata": {
        "id": "9bZFhpYC4BtE",
        "colab": {
          "base_uri": "https://localhost:8080/"
        },
        "outputId": "2f35b76b-8ad8-4968-aaca-69d74be361a2"
      },
      "source": [
        "print(A, ' <- A')\n",
        "\n",
        "print(U@diagD@U.T,' <- U^TDU')"
      ],
      "execution_count": null,
      "outputs": [
        {
          "output_type": "stream",
          "text": [
            "[[ 7.          6.         -4.5       ]\n",
            " [ 6.          5.33333333 -4.        ]\n",
            " [-4.5        -4.          3.        ]]  <- A\n",
            "[[ 7.          6.         -4.5       ]\n",
            " [ 6.          5.33333333 -4.        ]\n",
            " [-4.5        -4.          3.        ]]  <- U^TDU\n"
          ],
          "name": "stdout"
        }
      ]
    },
    {
      "cell_type": "markdown",
      "metadata": {
        "id": "XLJKQcPrAd_x"
      },
      "source": [
        "####ทำ PCA จากข้อมูลที่มีอยู่ 3 มิติให้เหลือ 2 มิติ\n",
        "1. เริ่มด้วยการหา Eigenvector ที่มีค่า Eigenvalue สูงสุดสองอันดับแรก"
      ]
    },
    {
      "cell_type": "code",
      "metadata": {
        "id": "7TWReO68LYTO",
        "colab": {
          "base_uri": "https://localhost:8080/"
        },
        "outputId": "fd038cad-95f2-40b0-fffc-e104c1e7451a"
      },
      "source": [
        "l_1 = D[-1] #eigenvalue ที่มีค่ารองลงมา\n",
        "l_2 = D[-2] #eigenvalue ที่มีค่าสูงที่สุด\n",
        "\n",
        "u_1 = U[:,-1] #eigenvector ที่มีค่า eigenvalue รองลงมา\n",
        "u_2 = U[:,-2] #eigenvector ที่มีค่า eigenvalue สูงที่สุด\n",
        "\n",
        "#สร้างเมทริกซ์ U_2 ที่มีคอลัมน์ประกอบไปด้วยเวกเตอร์ u_1 and u_2 \n",
        "\n",
        "U_2 = np.c_[u_1,u_2]\n",
        "print(u_1, ' <- u_1')\n",
        "print(u_2, ' <- u_2')\n",
        "print(U_2, ' <- U_2')"
      ],
      "execution_count": null,
      "outputs": [
        {
          "output_type": "stream",
          "text": [
            "[-0.67507785 -0.5901972   0.4426479 ]  <- u_1\n",
            "[-0.7377465   0.54006228 -0.40504671]  <- u_2\n",
            "[[-0.67507785 -0.7377465 ]\n",
            " [-0.5901972   0.54006228]\n",
            " [ 0.4426479  -0.40504671]]  <- U_2\n"
          ],
          "name": "stdout"
        }
      ]
    },
    {
      "cell_type": "markdown",
      "metadata": {
        "id": "VxteAckDF6_x"
      },
      "source": [
        "####ให้ตัวเลขในแต่ละแถวของ $A$ ทำ projection บนเวกเตอร์ $u_1$ และ $u_2$ ทำได้โดย\n",
        "$$M_2 = M\\begin{pmatrix}\\uparrow & \\uparrow \\\\\n",
        "u_1 & u_2  \\\\\n",
        "\\downarrow & \\downarrow \n",
        "\\end{pmatrix}=\\begin{pmatrix} 7 & 6 & -4.5 \\\\ 6 & 5.3 & -4 \\\\ -4.5 & -4 & 3 \\end{pmatrix}\\begin{pmatrix}\\uparrow & \\uparrow \\\\\n",
        "u_1 & u_2  \\\\\n",
        "\\downarrow & \\downarrow \n",
        "\\end{pmatrix}=\\begin{pmatrix}[7 &6  &-4.5]\\cdot u_1 &[7 &6  &-4.5]\\cdot u_2 \\\\\n",
        "[6 &5.3  &-4]\\cdot u_1 &[6 &5.3  &-4]\\cdot u_2 \\\\\n",
        "[-4.5 &-4  &3]\\cdot u_1 &[-4.5 &-4  &3]\\cdot u_2\\end{pmatrix}$$"
      ]
    },
    {
      "cell_type": "code",
      "metadata": {
        "id": "NZa2EvC3MQ8w",
        "colab": {
          "base_uri": "https://localhost:8080/"
        },
        "outputId": "095b962a-1bd8-4a4c-e7c3-9a7fe70632bc"
      },
      "source": [
        "M2 = M@U_2 #M คือ matrix ที่มีข้อมูลอยู่\n",
        "print(M2)"
      ],
      "execution_count": null,
      "outputs": [
        {
          "output_type": "stream",
          "text": [
            "[[ 1.90465535 -0.38738325]\n",
            " [ 2.5797332   0.35036324]\n",
            " [-4.48438855  0.03702001]]\n"
          ],
          "name": "stdout"
        }
      ]
    },
    {
      "cell_type": "code",
      "metadata": {
        "id": "2oLZBdcdl6xo",
        "colab": {
          "base_uri": "https://localhost:8080/",
          "height": 320
        },
        "outputId": "d1be1c34-510e-4e87-ac88-09aaf2ad481b"
      },
      "source": [
        "import matplotlib.pyplot as plt\n",
        "\n",
        "# Plot initialisation\n",
        "fig = plt.figure(figsize=(12,5))\n",
        "ax1 = fig.add_subplot(121, projection='3d')\n",
        "ax1.scatter(M[:,0], M[:,1], M[:,2],  cmap=\"Set2_r\", s=60);\n",
        "\n",
        "ax2 = fig.add_subplot(122)\n",
        "ax2.scatter(M2[:,0], M2[:,1],  cmap=\"Set2_r\", s=60);"
      ],
      "execution_count": null,
      "outputs": [
        {
          "output_type": "display_data",
          "data": {
            "image/png": "[encoded data removed]",
            "text/plain": [
              "<Figure size 864x360 with 2 Axes>"
            ]
          },
          "metadata": {
            "tags": [],
            "needs_background": "light"
          }
        }
      ]
    },
    {
      "cell_type": "markdown",
      "metadata": {
        "id": "QR-GOrNEqW7f"
      },
      "source": [
        "####การทำ PCA ด้วย scikit-learn สามารถทำได้ดังนี้"
      ]
    },
    {
      "cell_type": "code",
      "metadata": {
        "id": "A9S0nbWIK9Qg",
        "colab": {
          "base_uri": "https://localhost:8080/"
        },
        "outputId": "8a2d9bd4-e0c8-4ae5-9d71-559dd1c92866"
      },
      "source": [
        "from sklearn.decomposition import PCA\n",
        "\n",
        "pca = PCA(n_components=2)\n",
        "B2 = pca.fit_transform(M)\n",
        "print(B2)"
      ],
      "execution_count": null,
      "outputs": [
        {
          "output_type": "stream",
          "text": [
            "[[-1.90465535  0.38738325]\n",
            " [-2.5797332  -0.35036324]\n",
            " [ 4.48438855 -0.03702001]]\n"
          ],
          "name": "stdout"
        }
      ]
    },
    {
      "cell_type": "markdown",
      "metadata": {
        "id": "9HMC1qZcsSPw"
      },
      "source": [
        "####ลองดูว่าทิศทางของ principal component มีอะไรบ้าง"
      ]
    },
    {
      "cell_type": "code",
      "metadata": {
        "id": "NIelTMhisA3s",
        "colab": {
          "base_uri": "https://localhost:8080/"
        },
        "outputId": "3401cf46-084c-4c41-da73-d68a11cb922f"
      },
      "source": [
        "pca.components_"
      ],
      "execution_count": null,
      "outputs": [
        {
          "output_type": "execute_result",
          "data": {
            "text/plain": [
              "array([[ 0.67507785,  0.5901972 , -0.4426479 ],\n",
              "       [ 0.7377465 , -0.54006228,  0.40504671]])"
            ]
          },
          "metadata": {
            "tags": []
          },
          "execution_count": 11
        }
      ]
    },
    {
      "cell_type": "markdown",
      "metadata": {
        "id": "LLks01-ts1yJ"
      },
      "source": [
        "####สามารถดูได้ว่าในแต่ละทิศได้อธิบายความแปรปรวนของข้อมูลไปเท่าไหร่"
      ]
    },
    {
      "cell_type": "code",
      "metadata": {
        "id": "OfeTqzPSsGTV",
        "colab": {
          "base_uri": "https://localhost:8080/"
        },
        "outputId": "9a336f0c-d8e8-4bc2-bfdc-da7af2d1ddec"
      },
      "source": [
        "pca.explained_variance_"
      ],
      "execution_count": null,
      "outputs": [
        {
          "output_type": "execute_result",
          "data": {
            "text/plain": [
              "array([15.196238  ,  0.13709533])"
            ]
          },
          "metadata": {
            "tags": []
          },
          "execution_count": 12
        }
      ]
    },
    {
      "cell_type": "markdown",
      "metadata": {
        "id": "WOnPRlb2tL9n"
      },
      "source": [
        "####หรือสามารถดูเป็นสัดส่วนได้"
      ]
    },
    {
      "cell_type": "code",
      "metadata": {
        "id": "4_ScwWyNss7q",
        "colab": {
          "base_uri": "https://localhost:8080/"
        },
        "outputId": "b0a9f1ed-8232-49a3-86d2-413b48787003"
      },
      "source": [
        "pca.explained_variance_ratio_"
      ],
      "execution_count": null,
      "outputs": [
        {
          "output_type": "execute_result",
          "data": {
            "text/plain": [
              "array([0.991059, 0.008941])"
            ]
          },
          "metadata": {
            "tags": []
          },
          "execution_count": 13
        }
      ]
    },
    {
      "cell_type": "code",
      "metadata": {
        "id": "9zkdz94wtVco"
      },
      "source": [
        ""
      ],
      "execution_count": null,
      "outputs": []
    }
  ]
}