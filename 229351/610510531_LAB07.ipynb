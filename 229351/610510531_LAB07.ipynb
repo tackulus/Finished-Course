{
  "nbformat": 4,
  "nbformat_minor": 0,
  "metadata": {
    "colab": {
      "name": "610510531_LAB07.ipynb",
      "provenance": [],
      "collapsed_sections": [],
      "include_colab_link": true
    },
    "kernelspec": {
      "name": "python3",
      "display_name": "Python 3"
    }
  },
  "cells": [
    {
      "cell_type": "markdown",
      "metadata": {
        "id": "view-in-github",
        "colab_type": "text"
      },
      "source": [
        "<a href=\"https://colab.research.google.com/github/tackulus/229351/blob/main/610510531_LAB07.ipynb\" target=\"_parent\"><img src=\"https://colab.research.google.com/assets/colab-badge.svg\" alt=\"Open In Colab\"/></a>"
      ]
    },
    {
      "cell_type": "markdown",
      "metadata": {
        "id": "rUWDxJYaXbGS"
      },
      "source": [
        "ปฏิบัติการครั้งที่ 7 กระบวนวิชา 229351 Statistical Learning for Data Science\n",
        "\n",
        "คำชี้แจง\n",
        "\n",
        "ให้เริ่มทำปฏิบัติการจาก colab notebook ที่กำหนดให้ จากนั้นเลือก File -> Download .ipynb"
      ]
    },
    {
      "cell_type": "code",
      "metadata": {
        "id": "ntO6KNB7A24q",
        "colab": {
          "base_uri": "https://localhost:8080/"
        },
        "outputId": "7e72805f-c48e-4742-d27f-cb25d902b92e"
      },
      "source": [
        "# import module ที่ต้องใช้\n",
        "import numpy as np\n",
        "import pandas as pd\n",
        "import matplotlib.pyplot as plt\n",
        "from scipy import stats\n",
        "\n",
        "# StatsModels\n",
        "import statsmodels.api as sm\n",
        "import statsmodels.formula.api as smf\n",
        "\n",
        "# Download the file\n",
        "!wget -O Auto.csv http://www.donlapark.cmustat.com/229351/data/Auto.csv"
      ],
      "execution_count": 1,
      "outputs": [
        {
          "output_type": "stream",
          "text": [
            "/usr/local/lib/python3.6/dist-packages/statsmodels/tools/_testing.py:19: FutureWarning: pandas.util.testing is deprecated. Use the functions in the public API at pandas.testing instead.\n",
            "  import pandas.util.testing as tm\n"
          ],
          "name": "stderr"
        },
        {
          "output_type": "stream",
          "text": [
            "--2021-01-21 04:23:27--  http://www.donlapark.cmustat.com/229351/data/Auto.csv\n",
            "Resolving www.donlapark.cmustat.com (www.donlapark.cmustat.com)... 150.107.31.67\n",
            "Connecting to www.donlapark.cmustat.com (www.donlapark.cmustat.com)|150.107.31.67|:80... connected.\n",
            "HTTP request sent, awaiting response... 200 OK\n",
            "Length: 18079 (18K) [text/csv]\n",
            "Saving to: ‘Auto.csv’\n",
            "\n",
            "Auto.csv            100%[===================>]  17.66K  78.7KB/s    in 0.2s    \n",
            "\n",
            "2021-01-21 04:23:28 (78.7 KB/s) - ‘Auto.csv’ saved [18079/18079]\n",
            "\n"
          ],
          "name": "stdout"
        }
      ]
    },
    {
      "cell_type": "code",
      "metadata": {
        "id": "O_4Mr2OWaAae",
        "colab": {
          "base_uri": "https://localhost:8080/",
          "height": 206
        },
        "outputId": "7619000f-de89-4338-e4ff-4451b39e1a77"
      },
      "source": [
        "# อ่านไฟล์ csv ก่อนเพื่อหา missing values\n",
        "auto = pd.read_csv('Auto.csv',na_values=[\"?\"])\n",
        "\n",
        "# ลบแถวที่มี missing values\n",
        "auto = auto.dropna()\n",
        "\n",
        "auto = auto.drop(['name', 'origin'],axis=1)\n",
        "\n",
        "auto.head()"
      ],
      "execution_count": 2,
      "outputs": [
        {
          "output_type": "execute_result",
          "data": {
            "text/html": [
              "<div>\n",
              "<style scoped>\n",
              "    .dataframe tbody tr th:only-of-type {\n",
              "        vertical-align: middle;\n",
              "    }\n",
              "\n",
              "    .dataframe tbody tr th {\n",
              "        vertical-align: top;\n",
              "    }\n",
              "\n",
              "    .dataframe thead th {\n",
              "        text-align: right;\n",
              "    }\n",
              "</style>\n",
              "<table border=\"1\" class=\"dataframe\">\n",
              "  <thead>\n",
              "    <tr style=\"text-align: right;\">\n",
              "      <th></th>\n",
              "      <th>mpg</th>\n",
              "      <th>cylinders</th>\n",
              "      <th>displacement</th>\n",
              "      <th>horsepower</th>\n",
              "      <th>weight</th>\n",
              "      <th>acceleration</th>\n",
              "      <th>year</th>\n",
              "    </tr>\n",
              "  </thead>\n",
              "  <tbody>\n",
              "    <tr>\n",
              "      <th>0</th>\n",
              "      <td>18.0</td>\n",
              "      <td>8</td>\n",
              "      <td>307.0</td>\n",
              "      <td>130.0</td>\n",
              "      <td>3504</td>\n",
              "      <td>12.0</td>\n",
              "      <td>70</td>\n",
              "    </tr>\n",
              "    <tr>\n",
              "      <th>1</th>\n",
              "      <td>15.0</td>\n",
              "      <td>8</td>\n",
              "      <td>350.0</td>\n",
              "      <td>165.0</td>\n",
              "      <td>3693</td>\n",
              "      <td>11.5</td>\n",
              "      <td>70</td>\n",
              "    </tr>\n",
              "    <tr>\n",
              "      <th>2</th>\n",
              "      <td>18.0</td>\n",
              "      <td>8</td>\n",
              "      <td>318.0</td>\n",
              "      <td>150.0</td>\n",
              "      <td>3436</td>\n",
              "      <td>11.0</td>\n",
              "      <td>70</td>\n",
              "    </tr>\n",
              "    <tr>\n",
              "      <th>3</th>\n",
              "      <td>16.0</td>\n",
              "      <td>8</td>\n",
              "      <td>304.0</td>\n",
              "      <td>150.0</td>\n",
              "      <td>3433</td>\n",
              "      <td>12.0</td>\n",
              "      <td>70</td>\n",
              "    </tr>\n",
              "    <tr>\n",
              "      <th>4</th>\n",
              "      <td>17.0</td>\n",
              "      <td>8</td>\n",
              "      <td>302.0</td>\n",
              "      <td>140.0</td>\n",
              "      <td>3449</td>\n",
              "      <td>10.5</td>\n",
              "      <td>70</td>\n",
              "    </tr>\n",
              "  </tbody>\n",
              "</table>\n",
              "</div>"
            ],
            "text/plain": [
              "    mpg  cylinders  displacement  horsepower  weight  acceleration  year\n",
              "0  18.0          8         307.0       130.0    3504          12.0    70\n",
              "1  15.0          8         350.0       165.0    3693          11.5    70\n",
              "2  18.0          8         318.0       150.0    3436          11.0    70\n",
              "3  16.0          8         304.0       150.0    3433          12.0    70\n",
              "4  17.0          8         302.0       140.0    3449          10.5    70"
            ]
          },
          "metadata": {
            "tags": []
          },
          "execution_count": 2
        }
      ]
    },
    {
      "cell_type": "code",
      "metadata": {
        "colab": {
          "base_uri": "https://localhost:8080/"
        },
        "id": "5eXNpHbs1c2O",
        "outputId": "86e4ac19-5640-49f9-f51b-8e34cfd54d84"
      },
      "source": [
        "#syntax is ols(formula, dataset)\n",
        "model = smf.ols('mpg ~ cylinders + displacement + \\\n",
        "                      horsepower + weight + \\\n",
        "                      acceleration+year', auto)\n",
        "results = model.fit()\n",
        "print(results.summary())"
      ],
      "execution_count": 3,
      "outputs": [
        {
          "output_type": "stream",
          "text": [
            "                            OLS Regression Results                            \n",
            "==============================================================================\n",
            "Dep. Variable:                    mpg   R-squared:                       0.809\n",
            "Model:                            OLS   Adj. R-squared:                  0.806\n",
            "Method:                 Least Squares   F-statistic:                     272.2\n",
            "Date:                Thu, 21 Jan 2021   Prob (F-statistic):          3.79e-135\n",
            "Time:                        04:23:36   Log-Likelihood:                -1036.5\n",
            "No. Observations:                 392   AIC:                             2087.\n",
            "Df Residuals:                     385   BIC:                             2115.\n",
            "Df Model:                           6                                         \n",
            "Covariance Type:            nonrobust                                         \n",
            "================================================================================\n",
            "                   coef    std err          t      P>|t|      [0.025      0.975]\n",
            "--------------------------------------------------------------------------------\n",
            "Intercept      -14.5353      4.764     -3.051      0.002     -23.902      -5.169\n",
            "cylinders       -0.3299      0.332     -0.993      0.321      -0.983       0.323\n",
            "displacement     0.0077      0.007      1.044      0.297      -0.007       0.022\n",
            "horsepower      -0.0004      0.014     -0.028      0.977      -0.028       0.027\n",
            "weight          -0.0068      0.001    -10.141      0.000      -0.008      -0.005\n",
            "acceleration     0.0853      0.102      0.836      0.404      -0.115       0.286\n",
            "year             0.7534      0.053     14.318      0.000       0.650       0.857\n",
            "==============================================================================\n",
            "Omnibus:                       37.865   Durbin-Watson:                   1.232\n",
            "Prob(Omnibus):                  0.000   Jarque-Bera (JB):               60.248\n",
            "Skew:                           0.630   Prob(JB):                     8.26e-14\n",
            "Kurtosis:                       4.449   Cond. No.                     8.53e+04\n",
            "==============================================================================\n",
            "\n",
            "Warnings:\n",
            "[1] Standard Errors assume that the covariance matrix of the errors is correctly specified.\n",
            "[2] The condition number is large, 8.53e+04. This might indicate that there are\n",
            "strong multicollinearity or other numerical problems.\n"
          ],
          "name": "stdout"
        }
      ]
    },
    {
      "cell_type": "markdown",
      "metadata": {
        "id": "N286Ejig3ZAP"
      },
      "source": [
        "ตัวแปรตาม ($y$) และค่าทำนาย ($\\hat y$)"
      ]
    },
    {
      "cell_type": "code",
      "metadata": {
        "id": "HuvAPz3Y3dwF"
      },
      "source": [
        "y = auto['mpg']\n",
        "\n",
        "y_pred = model.predict(results.params)"
      ],
      "execution_count": 4,
      "outputs": []
    },
    {
      "cell_type": "markdown",
      "metadata": {
        "id": "BPHqIyy81fzZ"
      },
      "source": [
        "###$F$-statistic\n",
        "\n",
        "คำนวณ $F$-statistic ด้วย\n",
        "$$F_{p,n-p-1} = \\frac{(\\text{TSS}-\\text{RSS})/p}{\\text{RSS}/(n-p-1)}$$\n",
        "\n",
        "โดยที่\n",
        "\n",
        "$$\n",
        " \\text{TSS} = \\sum_{i=1}^n (y_i-\\bar{y})^2 \n",
        "$$\n",
        "\n",
        "$$\n",
        " \\text{RSS} = \\sum_{i=1}^n (y_i-\\hat{y})^2 \n",
        "$$\n"
      ]
    },
    {
      "cell_type": "code",
      "metadata": {
        "id": "JUXEC2ESN4jz",
        "outputId": "9f1235f8-76b0-4fda-da8d-6fcb2f7252cc",
        "colab": {
          "base_uri": "https://localhost:8080/"
        }
      },
      "source": [
        "len(results.params)"
      ],
      "execution_count": 7,
      "outputs": [
        {
          "output_type": "execute_result",
          "data": {
            "text/plain": [
              "7"
            ]
          },
          "metadata": {
            "tags": []
          },
          "execution_count": 7
        }
      ]
    },
    {
      "cell_type": "code",
      "metadata": {
        "id": "OEl8WVWa6QS9",
        "outputId": "6ecb3ec5-b733-4804-e047-6f4710ce37d4",
        "colab": {
          "base_uri": "https://localhost:8080/"
        }
      },
      "source": [
        "#TODO: compute F-statistic\n",
        "\n",
        "n = len(y)\n",
        "\n",
        "p = len(results.params) - 1\n",
        "\n",
        "TSS = np.sum( np.square(y - y.mean()) )\n",
        "\n",
        "RSS = np.sum( np.square(y - y_pred) )\n",
        "\n",
        "F = ((TSS-RSS)/p) / (RSS/(n-p-1))\n",
        "\n",
        "#Compute p_value of the F-statistic\n",
        "\n",
        "p_value = stats.f.sf(F, p, n-p-1)\n",
        "\n",
        "print(p_value)"
      ],
      "execution_count": 8,
      "outputs": [
        {
          "output_type": "stream",
          "text": [
            "3.792336100722869e-135\n"
          ],
          "name": "stdout"
        }
      ]
    },
    {
      "cell_type": "markdown",
      "metadata": {
        "id": "Zw27Q1Bg6fvM"
      },
      "source": [
        "###Exercise 1 : จากค่า p-value ที่ได้ข้างบน เราสามารถสรุปอะไรได้"
      ]
    },
    {
      "cell_type": "markdown",
      "metadata": {
        "id": "4HtY8iFY6iaN"
      },
      "source": [
        "คำตอบ : \r\n",
        "\r\n",
        "---\r\n",
        "\r\n"
      ]
    },
    {
      "cell_type": "markdown",
      "metadata": {
        "id": "eY77L4kv7SHH"
      },
      "source": [
        "#Linear model diagnosis"
      ]
    },
    {
      "cell_type": "code",
      "metadata": {
        "id": "xvDqcZfk_qnG",
        "outputId": "c43d9045-8f66-41c1-a432-36723bb0c20a",
        "colab": {
          "base_uri": "https://localhost:8080/"
        }
      },
      "source": [
        "# simple linear regression on Auto dataset\n",
        "auto_lr = smf.ols('mpg ~ horsepower ', data=auto).fit()\n",
        "print(auto_lr.summary())"
      ],
      "execution_count": 9,
      "outputs": [
        {
          "output_type": "stream",
          "text": [
            "                            OLS Regression Results                            \n",
            "==============================================================================\n",
            "Dep. Variable:                    mpg   R-squared:                       0.606\n",
            "Model:                            OLS   Adj. R-squared:                  0.605\n",
            "Method:                 Least Squares   F-statistic:                     599.7\n",
            "Date:                Thu, 21 Jan 2021   Prob (F-statistic):           7.03e-81\n",
            "Time:                        04:33:40   Log-Likelihood:                -1178.7\n",
            "No. Observations:                 392   AIC:                             2361.\n",
            "Df Residuals:                     390   BIC:                             2369.\n",
            "Df Model:                           1                                         \n",
            "Covariance Type:            nonrobust                                         \n",
            "==============================================================================\n",
            "                 coef    std err          t      P>|t|      [0.025      0.975]\n",
            "------------------------------------------------------------------------------\n",
            "Intercept     39.9359      0.717     55.660      0.000      38.525      41.347\n",
            "horsepower    -0.1578      0.006    -24.489      0.000      -0.171      -0.145\n",
            "==============================================================================\n",
            "Omnibus:                       16.432   Durbin-Watson:                   0.920\n",
            "Prob(Omnibus):                  0.000   Jarque-Bera (JB):               17.305\n",
            "Skew:                           0.492   Prob(JB):                     0.000175\n",
            "Kurtosis:                       3.299   Cond. No.                         322.\n",
            "==============================================================================\n",
            "\n",
            "Warnings:\n",
            "[1] Standard Errors assume that the covariance matrix of the errors is correctly specified.\n"
          ],
          "name": "stdout"
        }
      ]
    },
    {
      "cell_type": "markdown",
      "metadata": {
        "id": "fiNuI3HT_dX7"
      },
      "source": [
        "###คำนวณ Residuals $y_i-\\hat{y}_i$"
      ]
    },
    {
      "cell_type": "code",
      "metadata": {
        "id": "XlOmwZlvQXAR",
        "outputId": "d7b36f5f-bb1e-4287-a3cf-2187c6f02210",
        "colab": {
          "base_uri": "https://localhost:8080/"
        }
      },
      "source": [
        "#Fitted values\n",
        "auto_fitted = auto_lr.predict(auto)\n",
        "\n",
        "#Residuals\n",
        "auto_res = auto['mpg']-auto_fitted\n",
        "\n",
        "print(auto_res)"
      ],
      "execution_count": 10,
      "outputs": [
        {
          "output_type": "stream",
          "text": [
            "0      -1.416046\n",
            "1       1.108520\n",
            "2       1.740849\n",
            "3      -0.259151\n",
            "4      -0.837598\n",
            "         ...    \n",
            "392     0.638786\n",
            "393    12.272065\n",
            "394     5.323097\n",
            "395     0.533873\n",
            "396     4.007407\n",
            "Length: 392, dtype: float64\n"
          ],
          "name": "stdout"
        }
      ]
    },
    {
      "cell_type": "markdown",
      "metadata": {
        "id": "katHIstPTvft"
      },
      "source": [
        "###1. ทดสอบ non-linearity"
      ]
    },
    {
      "cell_type": "code",
      "metadata": {
        "id": "z19s30_3ARua",
        "outputId": "e134b771-015e-49e2-9ff9-7df1581d48ff",
        "colab": {
          "base_uri": "https://localhost:8080/",
          "height": 295
        }
      },
      "source": [
        "plt.scatter(auto_fitted, auto_res)\n",
        "plt.title('Residuals vs Fitted')\n",
        "plt.xlabel('Fitted values')\n",
        "plt.ylabel('Residuals');"
      ],
      "execution_count": 12,
      "outputs": [
        {
          "output_type": "display_data",
          "data": {
            "image/png": "[encoded data removed]",
            "text/plain": [
              "<Figure size 432x288 with 1 Axes>"
            ]
          },
          "metadata": {
            "tags": [],
            "needs_background": "light"
          }
        }
      ]
    },
    {
      "cell_type": "code",
      "metadata": {
        "id": "6njJmujsAUNv",
        "outputId": "61d4db13-4256-4235-c878-7a54ea7158bf",
        "colab": {
          "base_uri": "https://localhost:8080/",
          "height": 295
        }
      },
      "source": [
        "plt.scatter(auto_lr.fittedvalues, auto_lr.resid)\n",
        "plt.title('Residuals vs Fitted')\n",
        "plt.xlabel('Fitted values')\n",
        "plt.ylabel('Residuals');"
      ],
      "execution_count": 13,
      "outputs": [
        {
          "output_type": "display_data",
          "data": {
            "image/png": "[encoded data removed]",
            "text/plain": [
              "<Figure size 432x288 with 1 Axes>"
            ]
          },
          "metadata": {
            "tags": [],
            "needs_background": "light"
          }
        }
      ]
    },
    {
      "cell_type": "code",
      "metadata": {
        "id": "kD8uzgohDRIX",
        "outputId": "67772b02-0f3c-4227-f4b4-d6a33627f5c5",
        "colab": {
          "base_uri": "https://localhost:8080/"
        }
      },
      "source": [
        "auto_lr2 = smf.ols('mpg ~ horsepower+I(horsepower**2)', data=auto).fit()\n",
        "print(auto_lr2.summary())"
      ],
      "execution_count": 14,
      "outputs": [
        {
          "output_type": "stream",
          "text": [
            "                            OLS Regression Results                            \n",
            "==============================================================================\n",
            "Dep. Variable:                    mpg   R-squared:                       0.688\n",
            "Model:                            OLS   Adj. R-squared:                  0.686\n",
            "Method:                 Least Squares   F-statistic:                     428.0\n",
            "Date:                Thu, 21 Jan 2021   Prob (F-statistic):           5.40e-99\n",
            "Time:                        04:36:26   Log-Likelihood:                -1133.2\n",
            "No. Observations:                 392   AIC:                             2272.\n",
            "Df Residuals:                     389   BIC:                             2284.\n",
            "Df Model:                           2                                         \n",
            "Covariance Type:            nonrobust                                         \n",
            "======================================================================================\n",
            "                         coef    std err          t      P>|t|      [0.025      0.975]\n",
            "--------------------------------------------------------------------------------------\n",
            "Intercept             56.9001      1.800     31.604      0.000      53.360      60.440\n",
            "horsepower            -0.4662      0.031    -14.978      0.000      -0.527      -0.405\n",
            "I(horsepower ** 2)     0.0012      0.000     10.080      0.000       0.001       0.001\n",
            "==============================================================================\n",
            "Omnibus:                       16.158   Durbin-Watson:                   1.078\n",
            "Prob(Omnibus):                  0.000   Jarque-Bera (JB):               30.662\n",
            "Skew:                           0.218   Prob(JB):                     2.20e-07\n",
            "Kurtosis:                       4.299   Cond. No.                     1.29e+05\n",
            "==============================================================================\n",
            "\n",
            "Warnings:\n",
            "[1] Standard Errors assume that the covariance matrix of the errors is correctly specified.\n",
            "[2] The condition number is large, 1.29e+05. This might indicate that there are\n",
            "strong multicollinearity or other numerical problems.\n"
          ],
          "name": "stdout"
        }
      ]
    },
    {
      "cell_type": "code",
      "metadata": {
        "id": "yyk9EnXdD0ZU",
        "outputId": "161f3448-174e-4be1-b7f0-f0a677c0938a",
        "colab": {
          "base_uri": "https://localhost:8080/",
          "height": 295
        }
      },
      "source": [
        "plt.scatter(auto_lr2.fittedvalues, auto_lr2.resid)\n",
        "plt.title('Residuals vs Fitted')\n",
        "plt.xlabel('Fitted values')\n",
        "plt.ylabel('Residuals');"
      ],
      "execution_count": 15,
      "outputs": [
        {
          "output_type": "display_data",
          "data": {
            "image/png": "[encoded data removed]",
            "text/plain": [
              "<Figure size 432x288 with 1 Axes>"
            ]
          },
          "metadata": {
            "tags": [],
            "needs_background": "light"
          }
        }
      ]
    },
    {
      "cell_type": "markdown",
      "metadata": {
        "id": "YRCc6ktRUBkM"
      },
      "source": [
        "###2. ทดสอบ independence of errors\n",
        "ตรวจสอบโดยการ plot time vs residuals (ถ้าสามารถทำได้)\n",
        "\n",
        "###3. ทดสอบ constant variance"
      ]
    },
    {
      "cell_type": "code",
      "metadata": {
        "id": "vB1M4irSS5yz",
        "outputId": "e9838daa-7088-4461-c735-57b864836145",
        "colab": {
          "base_uri": "https://localhost:8080/"
        }
      },
      "source": [
        "auto_lr2 = smf.ols('I(np.log(mpg)) ~ horsepower+I(horsepower**2)', data=auto).fit()\n",
        "print(auto_lr2.summary())"
      ],
      "execution_count": 16,
      "outputs": [
        {
          "output_type": "stream",
          "text": [
            "                            OLS Regression Results                            \n",
            "==============================================================================\n",
            "Dep. Variable:         I(np.log(mpg))   R-squared:                       0.732\n",
            "Model:                            OLS   Adj. R-squared:                  0.731\n",
            "Method:                 Least Squares   F-statistic:                     532.2\n",
            "Date:                Thu, 21 Jan 2021   Prob (F-statistic):          4.54e-112\n",
            "Time:                        04:41:56   Log-Likelihood:                 125.48\n",
            "No. Observations:                 392   AIC:                            -245.0\n",
            "Df Residuals:                     389   BIC:                            -233.0\n",
            "Df Model:                           2                                         \n",
            "Covariance Type:            nonrobust                                         \n",
            "======================================================================================\n",
            "                         coef    std err          t      P>|t|      [0.025      0.975]\n",
            "--------------------------------------------------------------------------------------\n",
            "Intercept              4.4022      0.073     60.639      0.000       4.260       4.545\n",
            "horsepower            -0.0171      0.001    -13.632      0.000      -0.020      -0.015\n",
            "I(horsepower ** 2)  3.901e-05   4.92e-06      7.925      0.000    2.93e-05    4.87e-05\n",
            "==============================================================================\n",
            "Omnibus:                        9.051   Durbin-Watson:                   1.092\n",
            "Prob(Omnibus):                  0.011   Jarque-Bera (JB):               13.714\n",
            "Skew:                          -0.142   Prob(JB):                      0.00105\n",
            "Kurtosis:                       3.871   Cond. No.                     1.29e+05\n",
            "==============================================================================\n",
            "\n",
            "Warnings:\n",
            "[1] Standard Errors assume that the covariance matrix of the errors is correctly specified.\n",
            "[2] The condition number is large, 1.29e+05. This might indicate that there are\n",
            "strong multicollinearity or other numerical problems.\n"
          ],
          "name": "stdout"
        }
      ]
    },
    {
      "cell_type": "code",
      "metadata": {
        "id": "T8DKt5uKTR2p",
        "outputId": "1b8e6220-a6f5-4fcc-e826-86caa346055e",
        "colab": {
          "base_uri": "https://localhost:8080/",
          "height": 295
        }
      },
      "source": [
        "plt.scatter(auto_lr2.fittedvalues, auto_lr2.resid)\n",
        "plt.title('Residuals vs Fitted')\n",
        "plt.xlabel('Fitted values')\n",
        "plt.ylabel('Residuals');"
      ],
      "execution_count": 17,
      "outputs": [
        {
          "output_type": "display_data",
          "data": {
            "image/png": "[encoded data removed]",
            "text/plain": [
              "<Figure size 432x288 with 1 Axes>"
            ]
          },
          "metadata": {
            "tags": [],
            "needs_background": "light"
          }
        }
      ]
    },
    {
      "cell_type": "markdown",
      "metadata": {
        "id": "IxMx0OKZU-bb"
      },
      "source": [
        "### 4., 5. หา outliers และ leverage points "
      ]
    },
    {
      "cell_type": "code",
      "metadata": {
        "id": "-gCRXKb8fkuH",
        "outputId": "33874fc4-a9c7-4226-c38d-c66c9f3844ba",
        "colab": {
          "base_uri": "https://localhost:8080/",
          "height": 300
        }
      },
      "source": [
        "import statsmodels.graphics.api as smg\n",
        "\n",
        "smg.influence_plot(auto_lr2, size=10)\n",
        "\n",
        "#Cook's distance line ที่ระดับ 0.5\n",
        "p = 1 # จำนวนตัวแปรต้น\n",
        "x = np.linspace(0.01, 0.1, 50)\n",
        "plt.plot(x, np.sqrt(0.5*p*(1 - x)/x), color='red', linestyle='dashed')\n",
        "\n",
        "plt.xlim(0,0.1)\n",
        "plt.xlabel('Leverage')\n",
        "plt.ylabel('Standardized residuals')\n",
        "plt.title('Residuals vs Leverage');"
      ],
      "execution_count": 18,
      "outputs": [
        {
          "output_type": "display_data",
          "data": {
            "image/png": "[encoded data removed]",
            "text/plain": [
              "<Figure size 432x288 with 1 Axes>"
            ]
          },
          "metadata": {
            "tags": [],
            "needs_background": "light"
          }
        }
      ]
    },
    {
      "cell_type": "markdown",
      "metadata": {
        "id": "jEyN_naVVKzC"
      },
      "source": [
        "###6. ทดสอบ multicollinearity"
      ]
    },
    {
      "cell_type": "code",
      "metadata": {
        "id": "-QbEbw2lpYI-",
        "outputId": "519547c5-8e03-4b7a-f881-417d7b60bbaf",
        "colab": {
          "base_uri": "https://localhost:8080/"
        }
      },
      "source": [
        "from statsmodels.stats.outliers_influence import variance_inflation_factor as vif\n",
        "\n",
        "exog = auto_lr.model.exog\n",
        "exog_names = auto_lr.model.exog_names\n",
        "\n",
        "for i in range(1,len(exog_names)):\n",
        "  print(exog_names[i],vif(exog,i))\n"
      ],
      "execution_count": 21,
      "outputs": [
        {
          "output_type": "stream",
          "text": [
            "horsepower 1.0\n"
          ],
          "name": "stdout"
        }
      ]
    },
    {
      "cell_type": "markdown",
      "metadata": {
        "id": "ZB5KTQSXYm98"
      },
      "source": [
        "###Exercise 2\n",
        "\n",
        "ดาวน์โหลดข้อมูลการขายเบาะรถยนต์ใน link โดยรันโค้ดข้างล่างนี้\n"
      ]
    },
    {
      "cell_type": "code",
      "metadata": {
        "id": "-LrSrCk6BcBM",
        "outputId": "e1e4ee29-0b46-40ac-ba9a-37f3a2acecc0",
        "colab": {
          "base_uri": "https://localhost:8080/"
        }
      },
      "source": [
        "# Download the file\n",
        "!wget -O Carseats.csv http://www.donlapark.cmustat.com/229351/data/Carseats.csv"
      ],
      "execution_count": 22,
      "outputs": [
        {
          "output_type": "stream",
          "text": [
            "--2021-01-21 04:59:01--  http://www.donlapark.cmustat.com/229351/data/Carseats.csv\n",
            "Resolving www.donlapark.cmustat.com (www.donlapark.cmustat.com)... 150.107.31.67\n",
            "Connecting to www.donlapark.cmustat.com (www.donlapark.cmustat.com)|150.107.31.67|:80... connected.\n",
            "HTTP request sent, awaiting response... 200 OK\n",
            "Length: 19044 (19K) [text/csv]\n",
            "Saving to: ‘Carseats.csv’\n",
            "\n",
            "Carseats.csv        100%[===================>]  18.60K  84.3KB/s    in 0.2s    \n",
            "\n",
            "2021-01-21 04:59:02 (84.3 KB/s) - ‘Carseats.csv’ saved [19044/19044]\n",
            "\n"
          ],
          "name": "stdout"
        }
      ]
    },
    {
      "cell_type": "markdown",
      "metadata": {
        "id": "o80RX9roaRaS"
      },
      "source": [
        "\n",
        "Sales\n",
        "\n",
        "    Unit sales (in thousands) at each location\n",
        "CompPrice\n",
        "\n",
        "    Price charged by competitor at each location\n",
        "Income\n",
        "\n",
        "    Community income level (in thousands of dollars)\n",
        "Advertising\n",
        "\n",
        "    Local advertising budget for company at each location (in thousands of dollars)\n",
        "Population\n",
        "\n",
        "    Population size in region (in thousands)\n",
        "Price\n",
        "\n",
        "    Price company charges for car seats at each site\n",
        "ShelveLoc\n",
        "\n",
        "    A factor with levels Bad, Good and Medium indicating the quality of the shelving location for the car seats at each site\n",
        "Age\n",
        "\n",
        "    Average age of the local population\n",
        "Education\n",
        "\n",
        "    Education level at each location\n",
        "Urban\n",
        "\n",
        "    A factor with levels No and Yes to indicate whether the store is in an urban or rural location\n",
        "US\n",
        "\n",
        "    A factor with levels No and Yes to indicate whether the store is in the US or not"
      ]
    },
    {
      "cell_type": "code",
      "metadata": {
        "id": "1aAV_M9ia3_c",
        "outputId": "6cf16732-7d7b-4773-c337-bed3ee53d1c2",
        "colab": {
          "base_uri": "https://localhost:8080/",
          "height": 206
        }
      },
      "source": [
        "# อ่านไฟล์ csv ก่อนเพื่อหา missing values\n",
        "carseats = pd.read_csv('Carseats.csv')\n",
        "\n",
        "carseats.head()"
      ],
      "execution_count": 23,
      "outputs": [
        {
          "output_type": "execute_result",
          "data": {
            "text/html": [
              "<div>\n",
              "<style scoped>\n",
              "    .dataframe tbody tr th:only-of-type {\n",
              "        vertical-align: middle;\n",
              "    }\n",
              "\n",
              "    .dataframe tbody tr th {\n",
              "        vertical-align: top;\n",
              "    }\n",
              "\n",
              "    .dataframe thead th {\n",
              "        text-align: right;\n",
              "    }\n",
              "</style>\n",
              "<table border=\"1\" class=\"dataframe\">\n",
              "  <thead>\n",
              "    <tr style=\"text-align: right;\">\n",
              "      <th></th>\n",
              "      <th>Sales</th>\n",
              "      <th>CompPrice</th>\n",
              "      <th>Income</th>\n",
              "      <th>Advertising</th>\n",
              "      <th>Population</th>\n",
              "      <th>Price</th>\n",
              "      <th>ShelveLoc</th>\n",
              "      <th>Age</th>\n",
              "      <th>Education</th>\n",
              "      <th>Urban</th>\n",
              "      <th>US</th>\n",
              "    </tr>\n",
              "  </thead>\n",
              "  <tbody>\n",
              "    <tr>\n",
              "      <th>0</th>\n",
              "      <td>9.50</td>\n",
              "      <td>138</td>\n",
              "      <td>73</td>\n",
              "      <td>11</td>\n",
              "      <td>276</td>\n",
              "      <td>120</td>\n",
              "      <td>Bad</td>\n",
              "      <td>42</td>\n",
              "      <td>17</td>\n",
              "      <td>Yes</td>\n",
              "      <td>Yes</td>\n",
              "    </tr>\n",
              "    <tr>\n",
              "      <th>1</th>\n",
              "      <td>11.22</td>\n",
              "      <td>111</td>\n",
              "      <td>48</td>\n",
              "      <td>16</td>\n",
              "      <td>260</td>\n",
              "      <td>83</td>\n",
              "      <td>Good</td>\n",
              "      <td>65</td>\n",
              "      <td>10</td>\n",
              "      <td>Yes</td>\n",
              "      <td>Yes</td>\n",
              "    </tr>\n",
              "    <tr>\n",
              "      <th>2</th>\n",
              "      <td>10.06</td>\n",
              "      <td>113</td>\n",
              "      <td>35</td>\n",
              "      <td>10</td>\n",
              "      <td>269</td>\n",
              "      <td>80</td>\n",
              "      <td>Medium</td>\n",
              "      <td>59</td>\n",
              "      <td>12</td>\n",
              "      <td>Yes</td>\n",
              "      <td>Yes</td>\n",
              "    </tr>\n",
              "    <tr>\n",
              "      <th>3</th>\n",
              "      <td>7.40</td>\n",
              "      <td>117</td>\n",
              "      <td>100</td>\n",
              "      <td>4</td>\n",
              "      <td>466</td>\n",
              "      <td>97</td>\n",
              "      <td>Medium</td>\n",
              "      <td>55</td>\n",
              "      <td>14</td>\n",
              "      <td>Yes</td>\n",
              "      <td>Yes</td>\n",
              "    </tr>\n",
              "    <tr>\n",
              "      <th>4</th>\n",
              "      <td>4.15</td>\n",
              "      <td>141</td>\n",
              "      <td>64</td>\n",
              "      <td>3</td>\n",
              "      <td>340</td>\n",
              "      <td>128</td>\n",
              "      <td>Bad</td>\n",
              "      <td>38</td>\n",
              "      <td>13</td>\n",
              "      <td>Yes</td>\n",
              "      <td>No</td>\n",
              "    </tr>\n",
              "  </tbody>\n",
              "</table>\n",
              "</div>"
            ],
            "text/plain": [
              "   Sales  CompPrice  Income  Advertising  ...  Age  Education Urban   US\n",
              "0   9.50        138      73           11  ...   42         17   Yes  Yes\n",
              "1  11.22        111      48           16  ...   65         10   Yes  Yes\n",
              "2  10.06        113      35           10  ...   59         12   Yes  Yes\n",
              "3   7.40        117     100            4  ...   55         14   Yes  Yes\n",
              "4   4.15        141      64            3  ...   38         13   Yes   No\n",
              "\n",
              "[5 rows x 11 columns]"
            ]
          },
          "metadata": {
            "tags": []
          },
          "execution_count": 23
        }
      ]
    },
    {
      "cell_type": "code",
      "metadata": {
        "id": "9aIK3KFEcETA"
      },
      "source": [
        "exps = 'Sales ~ ' + '+'.join(carseats.columns.drop('Sales'))"
      ],
      "execution_count": 27,
      "outputs": []
    },
    {
      "cell_type": "markdown",
      "metadata": {
        "id": "5IVY7tWZ3bqn"
      },
      "source": [
        "### Bad = Intercept + other values\n",
        "### Medium = Intercept + other values + ShelveLoc(Med)*1\n",
        "### Good = Intercept + other values + ShelveLoc(Good)*1"
      ]
    },
    {
      "cell_type": "markdown",
      "metadata": {
        "id": "Wn_B07CWfjOS"
      },
      "source": [
        "###จงสร้าง residual plot และ influence plot แล้วตอบคำถามต่อไปนี้\n"
      ]
    },
    {
      "cell_type": "code",
      "metadata": {
        "cellView": "form",
        "id": "3okJS0stUsco",
        "outputId": "05343502-183c-4829-e5e1-b2231f2508bc",
        "colab": {
          "base_uri": "https://localhost:8080/"
        }
      },
      "source": [
        "#@title\r\n",
        "\r\n",
        "cs_lr = smf.ols(exps, data=carseats).fit()\r\n",
        "print(cs_lr.summary())"
      ],
      "execution_count": 28,
      "outputs": [
        {
          "output_type": "stream",
          "text": [
            "                            OLS Regression Results                            \n",
            "==============================================================================\n",
            "Dep. Variable:                  Sales   R-squared:                       0.873\n",
            "Model:                            OLS   Adj. R-squared:                  0.870\n",
            "Method:                 Least Squares   F-statistic:                     243.4\n",
            "Date:                Thu, 21 Jan 2021   Prob (F-statistic):          1.60e-166\n",
            "Time:                        05:05:27   Log-Likelihood:                -568.99\n",
            "No. Observations:                 400   AIC:                             1162.\n",
            "Df Residuals:                     388   BIC:                             1210.\n",
            "Df Model:                          11                                         \n",
            "Covariance Type:            nonrobust                                         \n",
            "=======================================================================================\n",
            "                          coef    std err          t      P>|t|      [0.025      0.975]\n",
            "---------------------------------------------------------------------------------------\n",
            "Intercept               5.6606      0.603      9.380      0.000       4.474       6.847\n",
            "ShelveLoc[T.Good]       4.8502      0.153     31.678      0.000       4.549       5.151\n",
            "ShelveLoc[T.Medium]     1.9567      0.126     15.516      0.000       1.709       2.205\n",
            "Urban[T.Yes]            0.1229      0.113      1.088      0.277      -0.099       0.345\n",
            "US[T.Yes]              -0.1841      0.150     -1.229      0.220      -0.479       0.111\n",
            "CompPrice               0.0928      0.004     22.378      0.000       0.085       0.101\n",
            "Income                  0.0158      0.002      8.565      0.000       0.012       0.019\n",
            "Advertising             0.1231      0.011     11.066      0.000       0.101       0.145\n",
            "Population              0.0002      0.000      0.561      0.575      -0.001       0.001\n",
            "Price                  -0.0954      0.003    -35.700      0.000      -0.101      -0.090\n",
            "Age                    -0.0460      0.003    -14.472      0.000      -0.052      -0.040\n",
            "Education              -0.0211      0.020     -1.070      0.285      -0.060       0.018\n",
            "==============================================================================\n",
            "Omnibus:                        0.811   Durbin-Watson:                   2.013\n",
            "Prob(Omnibus):                  0.667   Jarque-Bera (JB):                0.765\n",
            "Skew:                           0.107   Prob(JB):                        0.682\n",
            "Kurtosis:                       2.994   Cond. No.                     4.15e+03\n",
            "==============================================================================\n",
            "\n",
            "Warnings:\n",
            "[1] Standard Errors assume that the covariance matrix of the errors is correctly specified.\n",
            "[2] The condition number is large, 4.15e+03. This might indicate that there are\n",
            "strong multicollinearity or other numerical problems.\n"
          ],
          "name": "stdout"
        }
      ]
    },
    {
      "cell_type": "markdown",
      "metadata": {
        "id": "RN8YQ62pa1AA"
      },
      "source": [
        "---\r\n",
        "\r\n",
        "1. สมมติว่าตัวแปรอื่นมีค่าเท่ากัน โดยเฉลี่ยแล้ว ยอดขายของเบาะรถที่วางบนชั้นที่มีคุณภาพปานกลาง (ShelveLoc (Medium)) กับชั้นที่มีคุณภาพต่ำ (ShelveLoc (Bad)) ต่างกันอย่างไร ต่างกันเท่าไหร่ \r\n",
        "\r\n",
        "    > เบาะรถที่วางบนชั้นที่มีคุณภาพปานกลาง (ShelveLoc (Medium)) มียอดขายมากกว่าชั้นที่มีคุณภาพต่ำ (ShelveLoc (Bad)) อยู่ 1,956.7 ยูนิต"
      ]
    },
    {
      "cell_type": "markdown",
      "metadata": {
        "id": "5APsTvlqa3ss"
      },
      "source": [
        "2. สมมติว่าตัวแปรอื่นมีค่าเท่ากัน โดยเฉลี่ยแล้ว ยอดขายของเบาะรถที่วางบนชั้นที่มีคุณภาพดี (ShelveLoc (Good)) กับชั้นที่มีคุณภาพปานกลาง (ShelveLoc (Medium)) ต่างกันอย่างไร ต่างกันเท่าไหร่\r\n",
        "\r\n",
        "    > เบาะรถที่วางบนชั้นที่มีคุณภาพดี (ShelveLoc (Good)) มียอดขายมากกว่าชั้นที่มีคุณภาพปานกลาง (ShelveLoc (Medium)) อยู่ 2,893.5 ยูนิต"
      ]
    },
    {
      "cell_type": "markdown",
      "metadata": {
        "id": "DhDCBtDKa9n_"
      },
      "source": [
        "3. จงตรวจสอบว่าข้อมูลที่ใช้มีความเหมาะสมกับการสร้าง linear regression หรือไม่ โดยพิจารณาสิ่งต่างๆเหล่านี้พร้อมกับให้เหตุผล\r\n",
        "\r\n",
        "    3.1 Non-linearity\r\n",
        "\r\n",
        "    > จากกราฟ Residuals vs Fitted <br> ข้อมูลมีลักษณะเป็นเชิงเส้น เนื่องจาก residual มีลักษณะสุ่ม (ไม่มีรูปแบบให้คาดเดาตำแหน่งของจุด)\r\n",
        "    \r\n",
        "    3.2 Independence of errors\r\n",
        "\r\n",
        "    > ไม่พิจารณาเนื่องจากข้อมูลไม่เป็น time-series\r\n",
        "    \r\n",
        "    3.3 Constant variance\r\n",
        "\r\n",
        "    > จากกราฟ Residuals vs Fitted <br> ความแปรปรวนมีค่าคงที่ เนื่องจาก residual ไม่ขึ้นกับ fitted values\r\n",
        "    \r\n",
        "    3.4 Outliers  \r\n",
        "    \r\n",
        "    > จากกราฟ Residuals vs Leverage <br> ไม่มี outlier\r\n",
        "\r\n",
        "    3.5 Leverage points  \r\n",
        "    \r\n",
        "    > จากกราฟ Residuals vs Leverage <br> ไม่มี leverage point\r\n",
        "\r\n",
        "    3.6 Multicollinearity\r\n",
        "\r\n",
        "    > จากตาราง VIF <br> ไม่มี multicollinearity เนื่องจาก VIF ของทุกตัวแปรมีค่าน้อยกว่า 5\r\n",
        "\r\n",
        "        ดังนั้น ข้อมูลที่ใช้เหมาะสมต่อการสร้าง linear regression"
      ]
    },
    {
      "cell_type": "code",
      "metadata": {
        "cellView": "form",
        "id": "EANv5HRrXMGh",
        "outputId": "f699bd04-f34a-4a64-f558-0474e280a8e1",
        "colab": {
          "base_uri": "https://localhost:8080/",
          "height": 295
        }
      },
      "source": [
        "#@title\r\n",
        "\r\n",
        "def ResidualPlot(modelfit):\r\n",
        "    plt.scatter(modelfit.fittedvalues, modelfit.resid,\r\n",
        "                alpha=0.5, color='#000000')\r\n",
        "    plt.axhline(y=0, ls=':', c='#000000')\r\n",
        "    plt.title('Residuals vs Fitted')\r\n",
        "    plt.xlabel('Fitted values')\r\n",
        "    plt.ylabel('Residuals')\r\n",
        "    plt.show()\r\n",
        "\r\n",
        "ResidualPlot(cs_lr)"
      ],
      "execution_count": 73,
      "outputs": [
        {
          "output_type": "display_data",
          "data": {
            "image/png": "[encoded data removed]",
            "text/plain": [
              "<Figure size 432x288 with 1 Axes>"
            ]
          },
          "metadata": {
            "tags": [],
            "needs_background": "light"
          }
        }
      ]
    },
    {
      "cell_type": "code",
      "metadata": {
        "cellView": "form",
        "id": "WUg-zyCacI5G",
        "outputId": "1834e171-bece-4ab8-b0b8-870570ab1978",
        "colab": {
          "base_uri": "https://localhost:8080/",
          "height": 300
        }
      },
      "source": [
        "#@title\r\n",
        "\r\n",
        "import statsmodels.graphics.api as smg\r\n",
        "\r\n",
        "def LeveragePlot(modelfit, alpha=0.5):\r\n",
        "    smg.influence_plot(modelfit, size=8)\r\n",
        "    p = len(modelfit.params) - 1\r\n",
        "    x = np.linspace(0.01, 0.1, 50)\r\n",
        "    plt.plot(x, np.sqrt(alpha*p*(1 - x)/x), color='red', linestyle='dashed')\r\n",
        "    plt.xlim(0,0.1)\r\n",
        "    plt.xlabel('Leverage')\r\n",
        "    plt.ylabel('Standardized residuals')\r\n",
        "    plt.title('Residuals vs Leverage')\r\n",
        "\r\n",
        "LeveragePlot(cs_lr)"
      ],
      "execution_count": 74,
      "outputs": [
        {
          "output_type": "display_data",
          "data": {
            "image/png": "[encoded data removed]",
            "text/plain": [
              "<Figure size 432x288 with 1 Axes>"
            ]
          },
          "metadata": {
            "tags": [],
            "needs_background": "light"
          }
        }
      ]
    },
    {
      "cell_type": "code",
      "metadata": {
        "cellView": "form",
        "id": "7m1VeULJdGlb",
        "outputId": "822fbb9a-f3a5-4563-9ca6-7310302f2fbe",
        "colab": {
          "base_uri": "https://localhost:8080/",
          "height": 394
        }
      },
      "source": [
        "#@title\r\n",
        "\r\n",
        "from statsmodels.stats.outliers_influence import variance_inflation_factor as vif\r\n",
        "\r\n",
        "def MultiCollinearity(modelfit):\r\n",
        "    exog = modelfit.model.exog\r\n",
        "    exog_names = modelfit.model.exog_names\r\n",
        "    df = pd.DataFrame({'VIF': [vif(exog, i) for i in range(1,len(exog_names))]},\r\n",
        "                      index=exog_names[1:])\r\n",
        "    return df\r\n",
        "\r\n",
        "MultiCollinearity(cs_lr)"
      ],
      "execution_count": 76,
      "outputs": [
        {
          "output_type": "execute_result",
          "data": {
            "text/html": [
              "<div>\n",
              "<style scoped>\n",
              "    .dataframe tbody tr th:only-of-type {\n",
              "        vertical-align: middle;\n",
              "    }\n",
              "\n",
              "    .dataframe tbody tr th {\n",
              "        vertical-align: top;\n",
              "    }\n",
              "\n",
              "    .dataframe thead th {\n",
              "        text-align: right;\n",
              "    }\n",
              "</style>\n",
              "<table border=\"1\" class=\"dataframe\">\n",
              "  <thead>\n",
              "    <tr style=\"text-align: right;\">\n",
              "      <th></th>\n",
              "      <th>VIF</th>\n",
              "    </tr>\n",
              "  </thead>\n",
              "  <tbody>\n",
              "    <tr>\n",
              "      <th>ShelveLoc[T.Good]</th>\n",
              "      <td>1.511411</td>\n",
              "    </tr>\n",
              "    <tr>\n",
              "      <th>ShelveLoc[T.Medium]</th>\n",
              "      <td>1.517882</td>\n",
              "    </tr>\n",
              "    <tr>\n",
              "      <th>Urban[T.Yes]</th>\n",
              "      <td>1.022705</td>\n",
              "    </tr>\n",
              "    <tr>\n",
              "      <th>US[T.Yes]</th>\n",
              "      <td>1.980720</td>\n",
              "    </tr>\n",
              "    <tr>\n",
              "      <th>CompPrice</th>\n",
              "      <td>1.554618</td>\n",
              "    </tr>\n",
              "    <tr>\n",
              "      <th>Income</th>\n",
              "      <td>1.024731</td>\n",
              "    </tr>\n",
              "    <tr>\n",
              "      <th>Advertising</th>\n",
              "      <td>2.103136</td>\n",
              "    </tr>\n",
              "    <tr>\n",
              "      <th>Population</th>\n",
              "      <td>1.145534</td>\n",
              "    </tr>\n",
              "    <tr>\n",
              "      <th>Price</th>\n",
              "      <td>1.537068</td>\n",
              "    </tr>\n",
              "    <tr>\n",
              "      <th>Age</th>\n",
              "      <td>1.021051</td>\n",
              "    </tr>\n",
              "    <tr>\n",
              "      <th>Education</th>\n",
              "      <td>1.026342</td>\n",
              "    </tr>\n",
              "  </tbody>\n",
              "</table>\n",
              "</div>"
            ],
            "text/plain": [
              "                          VIF\n",
              "ShelveLoc[T.Good]    1.511411\n",
              "ShelveLoc[T.Medium]  1.517882\n",
              "Urban[T.Yes]         1.022705\n",
              "US[T.Yes]            1.980720\n",
              "CompPrice            1.554618\n",
              "Income               1.024731\n",
              "Advertising          2.103136\n",
              "Population           1.145534\n",
              "Price                1.537068\n",
              "Age                  1.021051\n",
              "Education            1.026342"
            ]
          },
          "metadata": {
            "tags": []
          },
          "execution_count": 76
        }
      ]
    }
  ]
}