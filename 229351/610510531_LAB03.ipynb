{
  "nbformat": 4,
  "nbformat_minor": 0,
  "metadata": {
    "colab": {
      "name": "229351-LAB03-02.ipynb",
      "provenance": [],
      "collapsed_sections": [],
      "include_colab_link": true
    },
    "kernelspec": {
      "name": "python3",
      "display_name": "Python 3"
    }
  },
  "cells": [
    {
      "cell_type": "markdown",
      "metadata": {
        "id": "view-in-github",
        "colab_type": "text"
      },
      "source": [
        "<a href=\"https://colab.research.google.com/github/tackulus/229351/blob/main/610510531_LAB03.ipynb\" target=\"_parent\"><img src=\"https://colab.research.google.com/assets/colab-badge.svg\" alt=\"Open In Colab\"/></a>"
      ]
    },
    {
      "cell_type": "markdown",
      "metadata": {
        "id": "rUWDxJYaXbGS"
      },
      "source": [
        "ปฏิบัติการครั้งที่ 3 กระบวนวิชา 229351 Statistical Learning for Data Science\n",
        "\n",
        "คำชี้แจง\n",
        "\n",
        "1. ให้เริ่มทำปฏิบัติการจาก colab notebook ที่กำหนดให้ จากนั้นบันทึกเป็นไฟล์ *.ipynb (File -> Download .ipynb)"
      ]
    },
    {
      "cell_type": "markdown",
      "metadata": {
        "id": "40DP82euz0nP"
      },
      "source": [
        "###ในปฏิบัติการนี้เราจะฝึกการทำ PCA ด้วยสองวิธี คือ\n",
        "1. หาด้วยการแยกส่วนประกอบของเมทริกซ์ผ่าน numpy\n",
        "2. หาด้วยการใช้เครื่องมือที่มีมาให้ใน scikit-learn"
      ]
    },
    {
      "cell_type": "markdown",
      "metadata": {
        "id": "BFeBRlckOxSG"
      },
      "source": [
        "ดาวน์โหลดข้อมูลสัตว์ต่างๆ 50 ชนิดดังนี้  \n",
        "ชนิดสัตว์: http://www.donlapark.cmustat.com/229351/data/classes.txt  \n",
        "ตัวแปรต่างๆ: http://www.donlapark.cmustat.com/229351/data/predicates.txt  \n",
        "ค่าของสัตว์แต่ละชนิด: http://www.donlapark.cmustat.com/229351/data/predicate-matrix-continuous.txt"
      ]
    },
    {
      "cell_type": "code",
      "metadata": {
        "id": "m4HFWsz5j8sS",
        "colab": {
          "base_uri": "https://localhost:8080/"
        },
        "outputId": "8473d017-3a28-414a-f172-6a0e3324d7ba"
      },
      "source": [
        "#Download the files\n",
        "!wget -O classes.txt http://www.donlapark.cmustat.com/229351/data/classes.txt\n",
        "!wget -O predicate-matrix-continuous.txt http://www.donlapark.cmustat.com/229351/data/predicate-matrix-continuous.txt"
      ],
      "execution_count": null,
      "outputs": [
        {
          "output_type": "stream",
          "text": [
            "--2020-12-17 03:59:07--  http://www.donlapark.cmustat.com/229351/data/classes.txt\n",
            "Resolving www.donlapark.cmustat.com (www.donlapark.cmustat.com)... 150.107.31.67\n",
            "Connecting to www.donlapark.cmustat.com (www.donlapark.cmustat.com)|150.107.31.67|:80... connected.\n",
            "HTTP request sent, awaiting response... 200 OK\n",
            "Length: 755 [text/plain]\n",
            "Saving to: ‘classes.txt’\n",
            "\n",
            "classes.txt         100%[===================>]     755  --.-KB/s    in 0s      \n",
            "\n",
            "2020-12-17 03:59:08 (93.0 MB/s) - ‘classes.txt’ saved [755/755]\n",
            "\n",
            "--2020-12-17 03:59:08--  http://www.donlapark.cmustat.com/229351/data/predicate-matrix-continuous.txt\n",
            "Resolving www.donlapark.cmustat.com (www.donlapark.cmustat.com)... 150.107.31.67\n",
            "Connecting to www.donlapark.cmustat.com (www.donlapark.cmustat.com)|150.107.31.67|:80... connected.\n",
            "HTTP request sent, awaiting response... 200 OK\n",
            "Length: 29800 (29K) [text/plain]\n",
            "Saving to: ‘predicate-matrix-continuous.txt’\n",
            "\n",
            "predicate-matrix-co 100%[===================>]  29.10K  41.2KB/s    in 0.7s    \n",
            "\n",
            "2020-12-17 03:59:10 (41.2 KB/s) - ‘predicate-matrix-continuous.txt’ saved [29800/29800]\n",
            "\n"
          ],
          "name": "stdout"
        }
      ]
    },
    {
      "cell_type": "code",
      "metadata": {
        "id": "5Tebr3-dBKxj",
        "colab": {
          "base_uri": "https://localhost:8080/"
        },
        "outputId": "d021b30b-bf90-46e5-d40a-7a347f471461"
      },
      "source": [
        "import numpy as np\n",
        "\n",
        "classes = np.genfromtxt('classes.txt',dtype='str')\n",
        "\n",
        "classes[:5]"
      ],
      "execution_count": null,
      "outputs": [
        {
          "output_type": "execute_result",
          "data": {
            "text/plain": [
              "array([['1', 'antelope'],\n",
              "       ['2', 'grizzly+bear'],\n",
              "       ['3', 'killer+whale'],\n",
              "       ['4', 'beaver'],\n",
              "       ['5', 'dalmatian']], dtype='<U15')"
            ]
          },
          "metadata": {
            "tags": []
          },
          "execution_count": 2
        }
      ]
    },
    {
      "cell_type": "code",
      "metadata": {
        "id": "O_4Mr2OWaAae",
        "colab": {
          "base_uri": "https://localhost:8080/"
        },
        "outputId": "8476d547-41be-43e2-e8af-1f793b3e7617"
      },
      "source": [
        "data = np.genfromtxt('predicate-matrix-continuous.txt')\n",
        "\n",
        "data.shape"
      ],
      "execution_count": null,
      "outputs": [
        {
          "output_type": "execute_result",
          "data": {
            "text/plain": [
              "(50, 85)"
            ]
          },
          "metadata": {
            "tags": []
          },
          "execution_count": 3
        }
      ]
    },
    {
      "cell_type": "markdown",
      "metadata": {
        "id": "DntRinCFiSMx"
      },
      "source": [
        "####ใน code block ข้างล่างนี้ จงทำ PCA บนข้อมูลที่ได้มาให้เหลือเมทริกซ์ข้อมูลที่มีตัวแปรแค่ 2 ตัว โดยใช้ฟังก์ชัน $\\texttt{np.linalg.eigh}$  \n",
        "####ดังนั้น เมทริกซ์ที่ได้ต้องมีขนาด 50x2"
      ]
    },
    {
      "cell_type": "code",
      "metadata": {
        "id": "-gCRXKb8fkuH",
        "colab": {
          "base_uri": "https://localhost:8080/"
        },
        "outputId": "c0897826-8edb-40cf-8bef-0c8b2d136d2c"
      },
      "source": [
        "data_n = data - np.mean(data, axis = 0) \n",
        "\n",
        "#TODO: enter code here\n",
        "cov = np.cov(data_n, rowvar=False)\n",
        "spec = np.linalg.eigh(cov)\n",
        "\n",
        "D, U = spec[0], spec[1].T\n",
        "\n",
        "l_1 = D[-1] #eigenvalue ที่มีค่ารองลงมา\n",
        "l_2 = D[-2] #eigenvalue ที่มีค่าสูงที่สุด\n",
        "\n",
        "u_1 = U[-1] #eigenvector ที่มีค่า eigenvalue รองลงมา\n",
        "u_2 = U[-2] #eigenvector ที่มีค่า eigenvalue สูงที่สุด\n",
        "U_2 = np.c_[u_1,u_2]\n",
        "\n",
        "proj_np = data_n@U_2\n",
        "proj_np"
      ],
      "execution_count": null,
      "outputs": [
        {
          "output_type": "execute_result",
          "data": {
            "text/plain": [
              "array([[  14.33200256, -106.35992505],\n",
              "       [ -58.9630861 ,   76.22681969],\n",
              "       [ 170.08767172,  139.3662367 ],\n",
              "       [  31.85582565,   54.04638157],\n",
              "       [ -29.65753503,   11.3917049 ],\n",
              "       [ -40.87859041,   10.72272289],\n",
              "       [   1.17791115, -104.79228138],\n",
              "       [ -82.43016284,   45.38757524],\n",
              "       [ 211.92608739,   82.83737143],\n",
              "       [ -90.92835147,   43.3052917 ],\n",
              "       [ -58.01597662,  -35.20297112],\n",
              "       [ -33.18440666,  -20.17533047],\n",
              "       [-127.19955243,   92.38136512],\n",
              "       [ 129.48931695,  -24.05695316],\n",
              "       [-117.35250987,   89.2965802 ],\n",
              "       [  28.55636713, -129.17123958],\n",
              "       [ -43.49964663,   -6.27693742],\n",
              "       [ 226.54893728,   95.28906181],\n",
              "       [  95.64111855,  -85.05034027],\n",
              "       [ -18.3316707 ,   -1.34492612],\n",
              "       [  56.58550468, -120.70785352],\n",
              "       [-111.97091878,   74.12827031],\n",
              "       [  25.79398483, -132.31759287],\n",
              "       [ 151.36316459,  100.93057781],\n",
              "       [ -67.92677834,  -19.55128584],\n",
              "       [ -48.25033667,  -49.77147826],\n",
              "       [ -61.48822496,  -11.07402232],\n",
              "       [  96.32422934,  -65.00899433],\n",
              "       [ -32.71055049,  -68.2626778 ],\n",
              "       [ -55.32175189,   58.45553839],\n",
              "       [  24.47458869, -124.27963392],\n",
              "       [ -99.3303442 ,   86.88931727],\n",
              "       [ -73.59635072,   12.88583838],\n",
              "       [ -95.60655817,   11.25129371],\n",
              "       [ -71.04330398,   40.57561094],\n",
              "       [  69.91610769,   98.87923662],\n",
              "       [  61.2577528 ,  -85.96699555],\n",
              "       [  -4.14741412, -132.44048918],\n",
              "       [  -4.90413155,  -48.90980111],\n",
              "       [ -19.07311359, -114.803083  ],\n",
              "       [-130.89391587,   98.67483978],\n",
              "       [  57.08125662,  -67.3358686 ],\n",
              "       [ -81.98309811,   66.12402159],\n",
              "       [ -38.87562183,  -42.63011111],\n",
              "       [   9.18275029,   99.85586236],\n",
              "       [ -64.18084359,    9.5950222 ],\n",
              "       [ 184.57248103,   87.8987012 ],\n",
              "       [ -75.73758307,   28.13905697],\n",
              "       [  47.50365302, -115.53842916],\n",
              "       [ 143.8116167 ,   96.49492234]])"
            ]
          },
          "metadata": {
            "tags": []
          },
          "execution_count": 44
        }
      ]
    },
    {
      "cell_type": "markdown",
      "metadata": {
        "id": "refYgya0jlfh"
      },
      "source": [
        "####ใน code block ข้างล่างนี้ จงทำ PCA บนข้อมูลที่ได้มาให้เหลือเมทริกซ์ข้อมูลที่มีตัวแปรแค่ 2 ตัว โดยใช้ $scikit-learn$  \n",
        "####พร้อมกับตรวจสอบว่าเมทริกซ์ที่ได้จากทั้งสองวิธีนี้มีค่าเท่ากัน"
      ]
    },
    {
      "cell_type": "code",
      "metadata": {
        "id": "TWoz-qMICQsv",
        "colab": {
          "base_uri": "https://localhost:8080/"
        },
        "outputId": "9c6cf4a8-0d93-4ea6-c82b-27df2f2e7186"
      },
      "source": [
        "from sklearn.decomposition import PCA\n",
        "\n",
        "#TODO: enter code here\n",
        "data_c = data - np.mean(data, axis = 0) \n",
        "pca = PCA(n_components=2)\n",
        "proj_sk = pca.fit_transform(data_c)\n",
        "proj_sk"
      ],
      "execution_count": null,
      "outputs": [
        {
          "output_type": "execute_result",
          "data": {
            "text/plain": [
              "array([[  14.33200256, -106.35992505],\n",
              "       [ -58.9630861 ,   76.22681969],\n",
              "       [ 170.08767172,  139.3662367 ],\n",
              "       [  31.85582565,   54.04638157],\n",
              "       [ -29.65753503,   11.3917049 ],\n",
              "       [ -40.87859041,   10.72272289],\n",
              "       [   1.17791115, -104.79228138],\n",
              "       [ -82.43016284,   45.38757524],\n",
              "       [ 211.92608739,   82.83737143],\n",
              "       [ -90.92835147,   43.3052917 ],\n",
              "       [ -58.01597662,  -35.20297112],\n",
              "       [ -33.18440666,  -20.17533047],\n",
              "       [-127.19955243,   92.38136512],\n",
              "       [ 129.48931695,  -24.05695316],\n",
              "       [-117.35250987,   89.2965802 ],\n",
              "       [  28.55636713, -129.17123958],\n",
              "       [ -43.49964663,   -6.27693742],\n",
              "       [ 226.54893728,   95.28906181],\n",
              "       [  95.64111855,  -85.05034027],\n",
              "       [ -18.3316707 ,   -1.34492612],\n",
              "       [  56.58550468, -120.70785352],\n",
              "       [-111.97091878,   74.12827031],\n",
              "       [  25.79398483, -132.31759287],\n",
              "       [ 151.36316459,  100.93057781],\n",
              "       [ -67.92677834,  -19.55128584],\n",
              "       [ -48.25033667,  -49.77147826],\n",
              "       [ -61.48822496,  -11.07402232],\n",
              "       [  96.32422934,  -65.00899433],\n",
              "       [ -32.71055049,  -68.2626778 ],\n",
              "       [ -55.32175189,   58.45553839],\n",
              "       [  24.47458869, -124.27963392],\n",
              "       [ -99.3303442 ,   86.88931727],\n",
              "       [ -73.59635072,   12.88583838],\n",
              "       [ -95.60655817,   11.25129371],\n",
              "       [ -71.04330398,   40.57561094],\n",
              "       [  69.91610769,   98.87923662],\n",
              "       [  61.2577528 ,  -85.96699555],\n",
              "       [  -4.14741412, -132.44048918],\n",
              "       [  -4.90413155,  -48.90980111],\n",
              "       [ -19.07311359, -114.803083  ],\n",
              "       [-130.89391587,   98.67483978],\n",
              "       [  57.08125662,  -67.3358686 ],\n",
              "       [ -81.98309811,   66.12402159],\n",
              "       [ -38.87562183,  -42.63011111],\n",
              "       [   9.18275029,   99.85586236],\n",
              "       [ -64.18084359,    9.5950222 ],\n",
              "       [ 184.57248103,   87.8987012 ],\n",
              "       [ -75.73758307,   28.13905697],\n",
              "       [  47.50365302, -115.53842916],\n",
              "       [ 143.8116167 ,   96.49492234]])"
            ]
          },
          "metadata": {
            "tags": []
          },
          "execution_count": 43
        }
      ]
    },
    {
      "cell_type": "markdown",
      "metadata": {
        "id": "kvxBs5Hlk5rZ"
      },
      "source": [
        "####ในขั้นตอนสุดท้าย เราจะทำการพล็อตจุดของข้อมูลที่ได้จาก PCA ข้างบนพร้อมกับใส่คำกำกับว่าจุดไหนเป็นของสัตว์ชนิดใดโดยใช้ชื่อสัตว์จาก classes.txt"
      ]
    },
    {
      "cell_type": "code",
      "metadata": {
        "id": "2srU_UiTbhS9",
        "colab": {
          "base_uri": "https://localhost:8080/",
          "height": 918
        },
        "outputId": "ee683b53-1cc5-44b3-ef59-494e5fd20033"
      },
      "source": [
        "%matplotlib inline\n",
        "from matplotlib import pyplot as plt\n",
        "\n",
        "#กำหนดขนาดของรูป\n",
        "plt.figure(figsize=(12,16)) \n",
        "\n",
        "#จงเติม argument ที่เหมาะสมในวงเล็บข้างล่างนี้ \n",
        "#รูปแบบของฟังก์ชันคือ plt.scatter(numpy array ของ x-coordinate, numpy array ของ y-coordinate)\n",
        "plt.scatter(proj_sk[:,0], proj_sk[:,1])\n",
        "\n",
        "#for loop เพื่อใส่คำกำกับ (annotate) ชื่อสัตว์ของแต่ละจุด วนให้ครบสัตว์ทุกชนิดที่อยู่ใน classes\n",
        "#ใส่ numpy array ที่ผ่านการทำ PCA แล้วลงในตำแหน่งที่ระบุเพื่อบอกพิกัดที่ต้องวางคำกำกับ\n",
        "for i in range(50):\n",
        "  plt.annotate(\n",
        "          classes[i,1],\n",
        "          xy=(proj_sk[i,0], \n",
        "              proj_sk[i,1]),\n",
        "              xytext=(5, -8),\n",
        "              textcoords='offset pixels')\n",
        "  \n",
        "\n",
        "plt.show()"
      ],
      "execution_count": null,
      "outputs": [
        {
          "output_type": "display_data",
          "data": {
            "image/png": "[encoded data removed]",
            "text/plain": [
              "<Figure size 864x1152 with 1 Axes>"
            ]
          },
          "metadata": {
            "tags": [],
            "needs_background": "light"
          }
        }
      ]
    },
    {
      "cell_type": "markdown",
      "metadata": {
        "id": "pp8J2lKI0Vea"
      },
      "source": [
        "####จงตอบคำถามต่อไปนี้\n",
        "\n",
        "1. จงระบุว่าสัตว์ต่างๆ ที่อยู่มุมขวาบนมีลักษณะใดที่คล้ายคลึงกัน\n",
        "\n",
        "        >> Marine Mammal (สัตว์เลี้ยงลูกด้วยน้ำนมทางทะเล)\n",
        "\n",
        "2. จงระบุว่าสัตว์ต่างๆ ที่อยู่มุมซ้ายบนมีลักษณะใดที่คล้ายคลึงกัน\n",
        "\n",
        "        >> Carnivora (สัตว์กินเนื้อ)\n",
        "\n",
        "3. จงระบุว่าสัตว์ต่างๆ ที่อยู่ด้านล่างมีลักษณะใดที่คล้ายคลึงกัน\n",
        "\n",
        "        >> Ungulata (สัตว์กีบ)\n",
        "\n",
        "4. จงหาว่ามีสัตว์กลุ่มใดอีกบ้างที่มีลักษณะคล้ายกันและอยู่ใกล้ๆ กันในแผนภาพข้างบน\n",
        "\n",
        "        >> Primates (วานร), Rodentia (สัตว์ฟันแทะ)"
      ]
    }
  ]
}