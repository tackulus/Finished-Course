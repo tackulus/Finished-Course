{
  "nbformat": 4,
  "nbformat_minor": 0,
  "metadata": {
    "colab": {
      "name": "229351-LAB04.ipynb",
      "provenance": [],
      "collapsed_sections": [],
      "include_colab_link": true
    },
    "kernelspec": {
      "name": "python3",
      "display_name": "Python 3"
    },
    "widgets": {
      "application/vnd.jupyter.widget-state+json": {
        "c1f752671cab4c62aab9324291882cd5": {
          "model_module": "@jupyter-widgets/controls",
          "model_name": "VBoxModel",
          "state": {
            "_view_name": "VBoxView",
            "_dom_classes": [
              "widget-interact"
            ],
            "_model_name": "VBoxModel",
            "_view_module": "@jupyter-widgets/controls",
            "_model_module_version": "1.5.0",
            "_view_count": null,
            "_view_module_version": "1.5.0",
            "box_style": "",
            "layout": "IPY_MODEL_5e72d9f16123414bbf70351ddbe1aa83",
            "_model_module": "@jupyter-widgets/controls",
            "children": [
              "IPY_MODEL_a441674dae3f4412ab383a519080b410",
              "IPY_MODEL_14a8fecf5a2941f9bd1308860a065e38"
            ]
          }
        },
        "5e72d9f16123414bbf70351ddbe1aa83": {
          "model_module": "@jupyter-widgets/base",
          "model_name": "LayoutModel",
          "state": {
            "_view_name": "LayoutView",
            "grid_template_rows": null,
            "right": null,
            "justify_content": null,
            "_view_module": "@jupyter-widgets/base",
            "overflow": null,
            "_model_module_version": "1.2.0",
            "_view_count": null,
            "flex_flow": null,
            "width": null,
            "min_width": null,
            "border": null,
            "align_items": null,
            "bottom": null,
            "_model_module": "@jupyter-widgets/base",
            "top": null,
            "grid_column": null,
            "overflow_y": null,
            "overflow_x": null,
            "grid_auto_flow": null,
            "grid_area": null,
            "grid_template_columns": null,
            "flex": null,
            "_model_name": "LayoutModel",
            "justify_items": null,
            "grid_row": null,
            "max_height": null,
            "align_content": null,
            "visibility": null,
            "align_self": null,
            "height": null,
            "min_height": null,
            "padding": null,
            "grid_auto_rows": null,
            "grid_gap": null,
            "max_width": null,
            "order": null,
            "_view_module_version": "1.2.0",
            "grid_template_areas": null,
            "object_position": null,
            "object_fit": null,
            "grid_auto_columns": null,
            "margin": null,
            "display": null,
            "left": null
          }
        },
        "a441674dae3f4412ab383a519080b410": {
          "model_module": "@jupyter-widgets/controls",
          "model_name": "IntSliderModel",
          "state": {
            "_view_name": "IntSliderView",
            "style": "IPY_MODEL_51c5638d818a4a07ae762d1142512e63",
            "_dom_classes": [],
            "description": "factor_k",
            "step": 5,
            "_model_name": "IntSliderModel",
            "orientation": "horizontal",
            "max": 100,
            "_view_module": "@jupyter-widgets/controls",
            "_model_module_version": "1.5.0",
            "value": 50,
            "_view_count": null,
            "disabled": false,
            "_view_module_version": "1.5.0",
            "min": 0,
            "continuous_update": true,
            "readout_format": "d",
            "description_tooltip": null,
            "readout": true,
            "_model_module": "@jupyter-widgets/controls",
            "layout": "IPY_MODEL_7dfdccc0425f46fc98edcc6b5ab55124"
          }
        },
        "14a8fecf5a2941f9bd1308860a065e38": {
          "model_module": "@jupyter-widgets/output",
          "model_name": "OutputModel",
          "state": {
            "_view_name": "OutputView",
            "msg_id": "",
            "_dom_classes": [],
            "_model_name": "OutputModel",
            "outputs": [
              {
                "output_type": "display_data",
                "metadata": {
                  "tags": [],
                  "needs_background": "light"
                },
                "image/png": "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\n",
                "text/plain": "<Figure size 720x432 with 1 Axes>"
              }
            ],
            "_view_module": "@jupyter-widgets/output",
            "_model_module_version": "1.0.0",
            "_view_count": null,
            "_view_module_version": "1.0.0",
            "layout": "IPY_MODEL_5cad1ab28a8f4669a0048c4f5dfc78d1",
            "_model_module": "@jupyter-widgets/output"
          }
        },
        "51c5638d818a4a07ae762d1142512e63": {
          "model_module": "@jupyter-widgets/controls",
          "model_name": "SliderStyleModel",
          "state": {
            "_view_name": "StyleView",
            "handle_color": null,
            "_model_name": "SliderStyleModel",
            "description_width": "",
            "_view_module": "@jupyter-widgets/base",
            "_model_module_version": "1.5.0",
            "_view_count": null,
            "_view_module_version": "1.2.0",
            "_model_module": "@jupyter-widgets/controls"
          }
        },
        "7dfdccc0425f46fc98edcc6b5ab55124": {
          "model_module": "@jupyter-widgets/base",
          "model_name": "LayoutModel",
          "state": {
            "_view_name": "LayoutView",
            "grid_template_rows": null,
            "right": null,
            "justify_content": null,
            "_view_module": "@jupyter-widgets/base",
            "overflow": null,
            "_model_module_version": "1.2.0",
            "_view_count": null,
            "flex_flow": null,
            "width": null,
            "min_width": null,
            "border": null,
            "align_items": null,
            "bottom": null,
            "_model_module": "@jupyter-widgets/base",
            "top": null,
            "grid_column": null,
            "overflow_y": null,
            "overflow_x": null,
            "grid_auto_flow": null,
            "grid_area": null,
            "grid_template_columns": null,
            "flex": null,
            "_model_name": "LayoutModel",
            "justify_items": null,
            "grid_row": null,
            "max_height": null,
            "align_content": null,
            "visibility": null,
            "align_self": null,
            "height": null,
            "min_height": null,
            "padding": null,
            "grid_auto_rows": null,
            "grid_gap": null,
            "max_width": null,
            "order": null,
            "_view_module_version": "1.2.0",
            "grid_template_areas": null,
            "object_position": null,
            "object_fit": null,
            "grid_auto_columns": null,
            "margin": null,
            "display": null,
            "left": null
          }
        },
        "5cad1ab28a8f4669a0048c4f5dfc78d1": {
          "model_module": "@jupyter-widgets/base",
          "model_name": "LayoutModel",
          "state": {
            "_view_name": "LayoutView",
            "grid_template_rows": null,
            "right": null,
            "justify_content": null,
            "_view_module": "@jupyter-widgets/base",
            "overflow": null,
            "_model_module_version": "1.2.0",
            "_view_count": null,
            "flex_flow": null,
            "width": null,
            "min_width": null,
            "border": null,
            "align_items": null,
            "bottom": null,
            "_model_module": "@jupyter-widgets/base",
            "top": null,
            "grid_column": null,
            "overflow_y": null,
            "overflow_x": null,
            "grid_auto_flow": null,
            "grid_area": null,
            "grid_template_columns": null,
            "flex": null,
            "_model_name": "LayoutModel",
            "justify_items": null,
            "grid_row": null,
            "max_height": null,
            "align_content": null,
            "visibility": null,
            "align_self": null,
            "height": null,
            "min_height": null,
            "padding": null,
            "grid_auto_rows": null,
            "grid_gap": null,
            "max_width": null,
            "order": null,
            "_view_module_version": "1.2.0",
            "grid_template_areas": null,
            "object_position": null,
            "object_fit": null,
            "grid_auto_columns": null,
            "margin": null,
            "display": null,
            "left": null
          }
        }
      }
    }
  },
  "cells": [
    {
      "cell_type": "markdown",
      "metadata": {
        "id": "view-in-github",
        "colab_type": "text"
      },
      "source": [
        "<a href=\"https://colab.research.google.com/github/tackulus/229351/blob/main/610510531_LAB04.ipynb\" target=\"_parent\"><img src=\"https://colab.research.google.com/assets/colab-badge.svg\" alt=\"Open In Colab\"/></a>"
      ]
    },
    {
      "cell_type": "markdown",
      "metadata": {
        "id": "rUWDxJYaXbGS"
      },
      "source": [
        "ปฏิบัติการครั้งที่ 4 กระบวนวิชา 229351 Statistical Learning for Data Science\n",
        "\n",
        "คำชี้แจง\n",
        "\n",
        "1. ให้เริ่มทำปฏิบัติการจาก colab notebook ที่กำหนดให้ จากนั้นบันทึกเป็นไฟล์ *.ipynb (File -> Download .ipynb)"
      ]
    },
    {
      "cell_type": "markdown",
      "metadata": {
        "id": "LfrNe5MdqS2b"
      },
      "source": [
        "#Task 1"
      ]
    },
    {
      "cell_type": "markdown",
      "metadata": {
        "id": "OYdg96RVZEJg"
      },
      "source": [
        "# Empirical risk for virus testing\n",
        "\n",
        "ในปัญหานี้เราจะทำการศึกษาการสร้างวิธีในการจำแนกคนที่เป็นโรคไวรัสจากการทดสอบชนิดหนึ่ง \n",
        "\n",
        "กำหนดให้ $R$ (reality) เป็นเหตุการณ์ที่คน $N$ คนเป็นหรือไม่เป็นพาหะนำโรคชนิดนี้\n",
        "\n",
        "`reality = [r1,r2,...,rN]`\n",
        "\n",
        "โดยที่ผลจากการทดสอบจะบอกถึงโอกาส (probability) ที่คนๆหนึ่งเป็นพาหะของโรคนี้\n",
        "\n",
        "`p = [p1,p2,...,pN]`\n",
        "\n",
        "โดยที่เราจะเป็นคนกำหนดค่า threshold $\\alpha$ ที่บอกว่า\n",
        "\n",
        "* ถ้า `pi` $>\\alpha$ แสดงว่าคนที่ `i` **เป็น**พาหะของโรคนี้\n",
        "* ถ้า `pi` $\\leq\\alpha$ แสดงว่าคนที่ `i` **ไม่เป็น**พาหะของโรคนี้\n",
        "\n",
        "กำหนดให้ $D$ (decision) เป็นการตัดสินใจที่ตามมา\n",
        "\n",
        "`decisions = [d1,d2,...,dN]`\n",
        "\n",
        "สมมติว่าเรากำหนดให้ความเสียหายจาก **false negative** (ความจริงแล้วเป็นพาหะแต่ผลการทดสอบบอกว่าไม่เป็น) มีค่าเป็น $k$ เท่าของความเสียหายจาก **false positive** (ความจริงแล้วไม่เป็นพาหะแต่ผลการทดสอบบอกว่าเป็น). loss function ที่ได้คือ\n",
        "\n",
        "$$\\begin{cases} \\mathcal{l}(di=1,ri=0) = 1\\\\\n",
        "\\mathcal{l}(di=0,ri=1) = k\\\\\n",
        "\\mathcal{l}(di=0,ri=0)=\\mathcal{l}(di=1,ri=1) = 0\\end{cases}$$\n",
        "\n",
        "นั่นคือ เราสามารถคำนวณ $R$ ได้ด้วยการบวก loss ของการทดสอบที่ผิดพลาดทั้งหมด แล้วหารด้วยจำนวณการทดสอบทั้งหมด"
      ]
    },
    {
      "cell_type": "markdown",
      "metadata": {
        "id": "m9fVbQV4nO6U"
      },
      "source": [
        "สร้างข้อมูลจำลองด้วยโค้ดข้างล่างนี้"
      ]
    },
    {
      "cell_type": "code",
      "metadata": {
        "id": "wyB_40PZgOWN"
      },
      "source": [
        "import matplotlib.pyplot as plt\n",
        "import numpy as np\n",
        "import pandas as pd\n",
        "import seaborn as sns\n",
        "from scipy.stats import norm\n",
        "\n",
        "# Note: don't make any changes to this function\n",
        "def generate_ground_truth(N, prevalence):\n",
        "    \"\"\" Creates simulated p corresponding to N subjects at a \n",
        "    specified disease prevalence level\"\"\"\n",
        "    rs = np.random.RandomState(1)\n",
        "    reality = rs.binomial(1, prevalence, N)\n",
        "    p = 1 - norm.cdf(rs.randn(N) + reality)\n",
        "    return(p, reality)\n",
        "\n",
        "# Generate p: Do not modify\n",
        "N = 10000\n",
        "prevalence = 0.05\n",
        "p, reality = generate_ground_truth(N, prevalence)\n"
      ],
      "execution_count": null,
      "outputs": []
    },
    {
      "cell_type": "markdown",
      "metadata": {
        "id": "bDPHaracnWaC"
      },
      "source": [
        "ฟังก์ชัน `alpha_threshold_decisions` ใช้ในการตัดสินใจว่าแต่ละคนเป็นหรือไม่เป็นพาหะ (`decisions`)"
      ]
    },
    {
      "cell_type": "code",
      "metadata": {
        "id": "SIraC0aMhESF"
      },
      "source": [
        "# Note: don't make any changes to this function, this is exatly the naive thresholding you completed in Lab 1\n",
        "def alpha_threshold_decisions(p, alpha):\n",
        "    \"\"\"\n",
        "    Returns decisions on p using naive thresholding.\n",
        "    \n",
        "    Inputs:\n",
        "        p: array of p\n",
        "        alpha: threshold (significance level)\n",
        "    \n",
        "    Returns:\n",
        "        decisions: binary array of same length as p, where `decisions[i]` is 1\n",
        "        if `p[i]` is deemed significant at level `alpha`, and 0 otherwize\n",
        "    \"\"\"\n",
        "    decisions = p <= alpha\n",
        "    return decisions"
      ],
      "execution_count": null,
      "outputs": []
    },
    {
      "cell_type": "markdown",
      "metadata": {
        "id": "bhdRa_aEntbk"
      },
      "source": [
        "ฟังก์ชัน `report_results` ใช้ในการคำนวณว่าการตัดสินใจถูกหรือผิดอย่างไรบ้าง\n",
        "\n",
        "* TP (true positive): `ri`=1,`di`=1 \n",
        "* TN (true negative): `ri`=0,`di`=0 \n",
        "* FP (false positive): `ri`=0,`di`=1 \n",
        "* FN (false negative): `ri`=1,`di`=0 "
      ]
    },
    {
      "cell_type": "code",
      "metadata": {
        "id": "JqBep_Rxgw8f"
      },
      "source": [
        "# Note: don't make any changes to this function, this is the report_results function you completed in Lab 1\n",
        "def report_results(decisions, reality):\n",
        "    \"\"\"\n",
        "    Produces a dictionary with counts for the true positives, true negatives,\n",
        "    false negatives, and false positives from the input `decisions`\n",
        "    and `reality` arrays.\n",
        "    \n",
        "    Inputs:\n",
        "      decision: array of 0/1 values where 1 indicates that patient has the virus.\n",
        "      reality: array of 0/1 values where 1 indicates a draw from the alternative.\n",
        "    \n",
        "    Outputs: a dictionary of TN, TP, FN, and FP counts.\n",
        "    \"\"\"   \n",
        "    \n",
        "    TP_count = sum(decisions*reality)\n",
        "    TN_count = sum((1-decisions)*(1-reality))\n",
        "    FP_count = sum((decisions)*(1-reality))\n",
        "    FN_count = sum((1-decisions)*(reality))\n",
        "    \n",
        "    results_dictionary = {\"TN_count\": TN_count,\n",
        "                          \"TP_count\": TP_count,\n",
        "                          \"FN_count\": FN_count,\n",
        "                          \"FP_count\": FP_count,\n",
        "                         }\n",
        "    return results_dictionary"
      ],
      "execution_count": null,
      "outputs": []
    },
    {
      "cell_type": "markdown",
      "metadata": {
        "id": "O91j2pHelLaf"
      },
      "source": [
        "###Exercise 1a: เติมฟังก์ชันเพื่อคำนวณ empirical risk จากค่าจำนวนความถูกต้องและจำนวนความผิดพลาด (TP, FP, TN, FN) ที่บันทึกใน `results_dictionary` โดยที่ `factor_k` คือค่า $k$ ที่ระบุในนิยามของ loss function ข้างบน"
      ]
    },
    {
      "cell_type": "code",
      "metadata": {
        "id": "fdLeqno7hAKG"
      },
      "source": [
        "# TODO: fill in\n",
        "def compute_empirical_risk(results_dictionary, factor_k):\n",
        "    \"\"\" Function that computes average loss for a given confusion matrix and a multiplicaltive\n",
        "        k_factor that compares the consequences of false nagatives and false positives.\n",
        "        \n",
        "        Inputs:\n",
        "            results_dictionary : a dictionary with the counts of TP, FP, TN and FN\n",
        "            k_factor : float, quantifies the ratio of the negative consequences of\n",
        "                       false negatives compared to false positives\n",
        "                       \n",
        "        Outputs:\n",
        "            empirical_risk : float\n",
        "    \"\"\"\n",
        "    \n",
        "    TP_count = results_dictionary['TP_count']\n",
        "    FP_count = results_dictionary['FP_count']\n",
        "    TN_count = results_dictionary['TN_count']\n",
        "    FN_count = results_dictionary['FN_count']\n",
        "    \n",
        "    N = TP_count + TN_count + FP_count + FN_count\n",
        "    empirical_risk = (FP_count + factor_k * FN_count) / N # TODO: fill in\n",
        "    return(empirical_risk)"
      ],
      "execution_count": null,
      "outputs": []
    },
    {
      "cell_type": "code",
      "metadata": {
        "id": "u0zrvphnzUSp",
        "colab": {
          "base_uri": "https://localhost:8080/"
        },
        "outputId": "9bcd3c02-8d95-44fc-94a7-6abf9ca7ac7d"
      },
      "source": [
        "res_dict = {'TP_count': 100, 'FP_count': 20, 'TN_count':450, 'FN_count':30}\n",
        "k_factors = [0, 10, 100]\n",
        "for i, k in enumerate(k_factors):\n",
        "    empirical_risk = compute_empirical_risk(res_dict, k)\n",
        "    print(empirical_risk)\n",
        "\n",
        "#Answers should be: \n",
        "# 0.03333333333333333\n",
        "# 0.5333333333333333\n",
        "# 5.033333333333333\n",
        "# 5.033333333333333"
      ],
      "execution_count": null,
      "outputs": [
        {
          "output_type": "stream",
          "text": [
            "0.03333333333333333\n",
            "0.5333333333333333\n",
            "5.033333333333333\n"
          ],
          "name": "stdout"
        }
      ]
    },
    {
      "cell_type": "markdown",
      "metadata": {
        "id": "m85aCRvFmCto"
      },
      "source": [
        "###Exercise 1b: เติมฟังก์ชันเพื่อคำนวณ empirical risk โดยที่มี argument ดังนี้ \n",
        "\n",
        "* `reality` การเป็นพาหะจริง  \n",
        "* `p` ความน่าจะเป็นที่ได้จากการทดสอบ \n",
        "* `alpha` ค่า threshold ในการตัดสินใจว่าแต่ละคนเป็นพาหะหรือไม่\n",
        "* `factor_k` คือค่า $k$ ที่ระบุในนิยามของ loss function ข้างบน"
      ]
    },
    {
      "cell_type": "code",
      "metadata": {
        "id": "nKW44BX2f-0-"
      },
      "source": [
        "# TODO: complete the function\n",
        "def compute_alpha_empirical_risk(p, reality, alpha, factor_k):\n",
        "    \"\"\" \n",
        "    Computes the observed average loss for an alpha level test.\n",
        "    \n",
        "    Inputs:\n",
        "        p: array of floats, p[i] is the probability associated with test subject i.\n",
        "        reality: array of 0/1s\n",
        "        alpha: float, threshold for rejecting the null hypothesis\n",
        "        factor_k: float, quantifies the ratio of the negative consequences of\n",
        "                  false negatives compared to false positives\n",
        "                  \n",
        "    Outputs:\n",
        "        empirical_risk: float, average observed loss\n",
        "    \"\"\"\n",
        "    decisions = [x <= alpha for x in p]\n",
        "    FP_count = sum([x & (~y) for x,y in zip(decisions, reality)])\n",
        "    FN_count = sum([(~x) & y for x,y in zip(decisions, reality)])\n",
        "\n",
        "    empirical_risk = (FP_count + factor_k * FN_count) / len(reality)\n",
        "    return empirical_risk"
      ],
      "execution_count": null,
      "outputs": []
    },
    {
      "cell_type": "code",
      "metadata": {
        "id": "NC4jRO4Rz8pk",
        "colab": {
          "base_uri": "https://localhost:8080/"
        },
        "outputId": "33399bec-3d81-4bf0-fb40-e24fb55b0efc"
      },
      "source": [
        "print('At level alpha=', 0.05 ,' and k=', 0 ,'   the average loss is', \\\n",
        "      compute_alpha_empirical_risk(p, reality,0.05,0))\n",
        "print('At level alpha=', 0.05 ,' and k=', 10 ,'  the average loss is', \\\n",
        "      compute_alpha_empirical_risk(p, reality,0.05,10))\n",
        "print('At level alpha=', 0.05 ,' and k=', 100 ,' the average loss is', \\\n",
        "      compute_alpha_empirical_risk(p, reality,0.05,100))\n",
        "\n",
        "#Answers should be 0.0499, 0.3909, 3.4599"
      ],
      "execution_count": null,
      "outputs": [
        {
          "output_type": "stream",
          "text": [
            "At level alpha= 0.05  and k= 0    the average loss is 0.0499\n",
            "At level alpha= 0.05  and k= 10   the average loss is 0.3909\n",
            "At level alpha= 0.05  and k= 100  the average loss is 3.4599\n"
          ],
          "name": "stdout"
        }
      ]
    },
    {
      "cell_type": "code",
      "metadata": {
        "id": "oUdNjhX3hewV"
      },
      "source": [
        "# Run this as is after completing the `compute_alpha_empirical_risk` function\n",
        "# Do not modify\n",
        "def plot_empirical_risk(factor_k):\n",
        "    N = 10000\n",
        "    # generate ground truth\n",
        "    p, reality = generate_ground_truth(N, 0.05)\n",
        "    # vary alpha from 0 to 1\n",
        "    alpha_array = np.arange(0,1, 0.05)\n",
        "    # compute average loss for each alpha\n",
        "    empirical_risk_array = [compute_alpha_empirical_risk(p, reality, alpha, factor_k) for alpha in alpha_array]\n",
        "    optimal_alpha = alpha_array[np.argmin(empirical_risk_array)]\n",
        "    plt.figure(figsize=(10, 6))\n",
        "    plt.plot(alpha_array, empirical_risk_array, label = 'Average Loss')\n",
        "    plt.axvline(x=optimal_alpha, ls='--', label = 'Optimal $\\\\alpha$', c='green')\n",
        "    plt.xlabel('$\\\\alpha$ level')\n",
        "    plt.ylabel('Average Loss')\n",
        "    plt.legend()\n",
        "    plt.show()"
      ],
      "execution_count": null,
      "outputs": []
    },
    {
      "cell_type": "code",
      "metadata": {
        "id": "PjGQ20wxh_cZ",
        "colab": {
          "base_uri": "https://localhost:8080/",
          "height": 422,
          "referenced_widgets": [
            "c1f752671cab4c62aab9324291882cd5",
            "5e72d9f16123414bbf70351ddbe1aa83",
            "a441674dae3f4412ab383a519080b410",
            "14a8fecf5a2941f9bd1308860a065e38",
            "51c5638d818a4a07ae762d1142512e63",
            "7dfdccc0425f46fc98edcc6b5ab55124",
            "5cad1ab28a8f4669a0048c4f5dfc78d1"
          ]
        },
        "outputId": "ffc6a57e-50bd-4b1d-fb1d-da316bf0312d"
      },
      "source": [
        "from ipywidgets import interact, interactive\n",
        "\n",
        "# Visualize interactive plot: Do not modify\n",
        "interactive_plot = interactive(plot_empirical_risk, factor_k=(0, 100, 5))\n",
        "interactive_plot"
      ],
      "execution_count": null,
      "outputs": [
        {
          "output_type": "display_data",
          "data": {
            "application/vnd.jupyter.widget-view+json": {
              "model_id": "c1f752671cab4c62aab9324291882cd5",
              "version_minor": 0,
              "version_major": 2
            },
            "text/plain": [
              "interactive(children=(IntSlider(value=50, description='factor_k', step=5), Output()), _dom_classes=('widget-in…"
            ]
          },
          "metadata": {
            "tags": []
          }
        }
      ]
    },
    {
      "cell_type": "markdown",
      "metadata": {
        "id": "AbgAEXI3jdgr"
      },
      "source": [
        "### Exercise 1c: factor_k กับค่า $\\alpha$ ที่ดีทีสุด (Optimal $\\alpha$) มีความสัมพันธ์กันอย่างไร เพราะเหตุใด"
      ]
    },
    {
      "cell_type": "markdown",
      "metadata": {
        "id": "eZnDbI1HkAeh"
      },
      "source": [
        "คำตอบ: factor_k แปรผันตรงกับ optimal $\\alpha$\n",
        "\n",
        "        - เมื่อ factor_k มีค่าน้อย แสดงว่าการเกิด False Positive ทำให้เกิดความเสียหายมากกว่า จึงใช้ alpha ค่าน้อยเพื่อโน้มการตัดสินใจให้เป็น negative\n",
        "        - เมื่อ factor_k มีค่ามาก แสดงว่าการเกิด False Negative ทำให้เกิดความเสียหายมากกว่า จึงใช้ค่า alpha ค่ามากเพื่อโน้มการตัดสินใจให้เป็น positive"
      ]
    },
    {
      "cell_type": "markdown",
      "metadata": {
        "id": "UU6M_cw-qPMY"
      },
      "source": [
        "#Task 2"
      ]
    },
    {
      "cell_type": "markdown",
      "metadata": {
        "id": "Y3XRvN5ottw3"
      },
      "source": [
        "###Sample points"
      ]
    },
    {
      "cell_type": "code",
      "metadata": {
        "id": "_mP9iX86slv6"
      },
      "source": [
        "np.random.seed(42)\n",
        "\n",
        "N = 8\n",
        "x = 10 ** np.linspace(-2, 0, N)\n",
        "y = np.random.normal(loc = 10 - 1. / (x + 0.1), scale= 0.5)"
      ],
      "execution_count": null,
      "outputs": []
    },
    {
      "cell_type": "code",
      "metadata": {
        "id": "YGZGigLcs6aQ",
        "colab": {
          "base_uri": "https://localhost:8080/",
          "height": 295
        },
        "outputId": "d7ab338d-ea35-4c2c-a5dc-a04e610a1463"
      },
      "source": [
        "plt.figure()\n",
        "plt.scatter(x, y, c='k')\n",
        "plt.xlabel('x')\n",
        "plt.ylabel('y')\n",
        "plt.title('Sample points');"
      ],
      "execution_count": null,
      "outputs": [
        {
          "output_type": "display_data",
          "data": {
            "image/png": "[encoded data removed]",
            "text/plain": [
              "<Figure size 432x288 with 1 Axes>"
            ]
          },
          "metadata": {
            "tags": [],
            "needs_background": "light"
          }
        }
      ]
    },
    {
      "cell_type": "markdown",
      "metadata": {
        "id": "QdZi8kpttrKV"
      },
      "source": [
        "###Polynomial regression"
      ]
    },
    {
      "cell_type": "code",
      "metadata": {
        "id": "6FniOUFStYfh"
      },
      "source": [
        "p = np.polyfit(x, y, 2)\n",
        "\n",
        "\n",
        "xfit = np.linspace(-0.2, 1.2, 1000)\n",
        "yfit = np.polyval(p, xfit)"
      ],
      "execution_count": null,
      "outputs": []
    },
    {
      "cell_type": "code",
      "metadata": {
        "id": "dkwag247tVkn",
        "colab": {
          "base_uri": "https://localhost:8080/",
          "height": 313
        },
        "outputId": "0039e16a-5401-444e-ee05-d1b0f5e6e71a"
      },
      "source": [
        "plt.figure()\n",
        "plt.scatter(x, y, marker='x', c='k', s=50)\n",
        "plt.plot(xfit, yfit, '-b')\n",
        "plt.xlabel('x')\n",
        "plt.ylabel('y')\n",
        "plt.title('d = 2')"
      ],
      "execution_count": null,
      "outputs": [
        {
          "output_type": "execute_result",
          "data": {
            "text/plain": [
              "Text(0.5, 1.0, 'd = 2')"
            ]
          },
          "metadata": {
            "tags": []
          },
          "execution_count": 13
        },
        {
          "output_type": "display_data",
          "data": {
            "image/png": "[encoded data removed]",
            "text/plain": [
              "<Figure size 432x288 with 1 Axes>"
            ]
          },
          "metadata": {
            "tags": [],
            "needs_background": "light"
          }
        }
      ]
    },
    {
      "cell_type": "code",
      "metadata": {
        "id": "2R56DzSxsZnG",
        "colab": {
          "base_uri": "https://localhost:8080/",
          "height": 251
        },
        "outputId": "2ff973be-9a83-4b76-974c-b02dcc09b579"
      },
      "source": [
        "xfit = np.linspace(-0.2, 1.2, 1000)\n",
        "\n",
        "titles = ['d = 1 (under-fit)', 'd = 2', 'd = 6 (over-fit)']\n",
        "degrees = [1, 2, 6]\n",
        "\n",
        "plt.figure(figsize = (9, 3.5))\n",
        "for i, d in enumerate(degrees):\n",
        "    plt.subplot(131 + i, xticks=[], yticks=[])\n",
        "    plt.scatter(x, y, marker='x', c='k', s=50)\n",
        "\n",
        "    p = np.polyfit(x, y, d)\n",
        "    yfit = np.polyval(p, xfit)\n",
        "    plt.plot(xfit, yfit, '-b')\n",
        "    \n",
        "    plt.xlim(-0.2, 1.2)\n",
        "    plt.ylim(0, 12)\n",
        "    plt.xlabel('x')\n",
        "    if i == 0:\n",
        "        plt.ylabel('y')\n",
        "\n",
        "    plt.title(titles[i])"
      ],
      "execution_count": null,
      "outputs": [
        {
          "output_type": "display_data",
          "data": {
            "image/png": "[encoded data removed]",
            "text/plain": [
              "<Figure size 648x252 with 3 Axes>"
            ]
          },
          "metadata": {
            "tags": []
          }
        }
      ]
    },
    {
      "cell_type": "code",
      "metadata": {
        "id": "W4mkSzTBalJi"
      },
      "source": [
        "np.random.seed(42)\n",
        "\n",
        "Ntrain = 100\n",
        "Ntest = 100\n",
        "error = 1.0\n",
        "\n",
        "np.random.seed(0)\n",
        "x = np.random.random(Ntrain + Ntest)\n",
        "y = np.random.normal(loc = 10 - 1. / (x + 0.1), scale= 0.5)\n",
        "\n",
        "xtrain = x[:Ntrain]\n",
        "ytrain = y[:Ntrain]\n",
        "\n",
        "xtest = x[Ntrain:]\n",
        "ytest = y[Ntrain:]"
      ],
      "execution_count": null,
      "outputs": []
    },
    {
      "cell_type": "code",
      "metadata": {
        "id": "wVuM72Utrd8n",
        "colab": {
          "base_uri": "https://localhost:8080/",
          "height": 295
        },
        "outputId": "b1920d8c-a508-4823-d45b-1b2c62e67c8b"
      },
      "source": [
        "plt.scatter(xtrain, ytrain, c='k')\n",
        "plt.xlabel('x')\n",
        "plt.ylabel('y')\n",
        "plt.title('Training set');"
      ],
      "execution_count": null,
      "outputs": [
        {
          "output_type": "display_data",
          "data": {
            "image/png": "[encoded data removed]",
            "text/plain": [
              "<Figure size 432x288 with 1 Axes>"
            ]
          },
          "metadata": {
            "tags": [],
            "needs_background": "light"
          }
        }
      ]
    },
    {
      "cell_type": "code",
      "metadata": {
        "id": "gUX3YRrOusyc"
      },
      "source": [
        "def empirical_risk(y, yfit):\n",
        "    return np.mean((y - yfit) ** 2)"
      ],
      "execution_count": null,
      "outputs": []
    },
    {
      "cell_type": "markdown",
      "metadata": {
        "id": "XmqhAOtfvF16"
      },
      "source": [
        "#Exercise 2: \n",
        "1. ทำการสร้าง polynomial regression ที่มีค่า degree ตั้งแต่ 1-20 โดยใช้ training set ข้างบน \n",
        "2. หลังจากสร้างโมเดลแต่ละตัวเสร็จแล้ว ให้คำนวณค่า empirical risk ของการทำนายบน test set เก็บค่าที่ได้ไว้ใน list ที่ชื่อว่า `empirical_risks` (เพราะฉะนั้น list นี้จะมีสมาชิก 20 ตัว)\n",
        "3. สร้าง plot โดยให้แกนนอนคือค่า degree ของโมเดลแต่ละตัว และแกนตั้งคือค่า empirical risk ของโมเดลตัวนั้น \n",
        "4. ระบุค่า degree ที่มี emprical risk ต่ำที่สุด\n",
        "ค่า degree ไหนบ้างที่ทำให้โมเดล overfit และค่า degree ไหนบ้างที่ทำให้โมเดล underfit"
      ]
    },
    {
      "cell_type": "code",
      "metadata": {
        "id": "RSuwcM2cxnrT"
      },
      "source": [
        "%%capture\n",
        "max_deg = 20\n",
        "\n",
        "empirical_risks = [0]*max_deg\n",
        "\n",
        "for i in range(1,max_deg +1):\n",
        "  #TODO: fill code here\n",
        "  p = np.polyfit(xtrain, ytrain, i)\n",
        "\n",
        "  y = np.polyval(p, xtest)\n",
        "  empirical_risks[i-1] = empirical_risk(ytest, y)"
      ],
      "execution_count": null,
      "outputs": []
    },
    {
      "cell_type": "code",
      "metadata": {
        "id": "3LIsSZTcyRpt",
        "colab": {
          "base_uri": "https://localhost:8080/",
          "height": 279
        },
        "outputId": "dd9d4a2b-c5ce-44b9-a042-54df54a0e2f1"
      },
      "source": [
        "plt.figure()\n",
        "plt.plot(np.arange(1, 1+max_deg), empirical_risks)\n",
        "plt.xticks(np.arange(1, 1+max_deg, 1.0))\n",
        "plt.xlabel(\"Degree\")\n",
        "plt.ylabel(\"Empirical Risk\")\n",
        "plt.axvline(x=1+np.argmin(empirical_risks), ls=\"--\", label=\"minimun empirical risk\")\n",
        "plt.axvline(x=3, color=\"red\", ls=\"-\", label=\"underfitting\")\n",
        "plt.axvline(x=17, color=\"green\", ls=\"-\", label=\"overfitting\")\n",
        "plt.legend()\n",
        "plt.show()"
      ],
      "execution_count": null,
      "outputs": [
        {
          "output_type": "display_data",
          "data": {
            "image/png": "[encoded data removed]",
            "text/plain": [
              "<Figure size 432x288 with 1 Axes>"
            ]
          },
          "metadata": {
            "tags": [],
            "needs_background": "light"
          }
        }
      ]
    },
    {
      "cell_type": "markdown",
      "metadata": {
        "id": "qIQVoV9KWvTK"
      },
      "source": [
        "จากกราฟได้ว่า ค่าต่ำสุดของ empirical risk เกิด ณ degree= 9\n",
        "และเกิด underfitting สำหรับพหุนามดีกรี $\\leq 3$\n",
        "\n",
        "(จากกราฟไม่มี overfitting ที่เห็นชัด แต่อาจอนุมานได้ว่า เริ่มเกิด overfitting ที่พหุนามดีกรี $\\geq 17$"
      ]
    }
  ]
}