{
  "nbformat": 4,
  "nbformat_minor": 0,
  "metadata": {
    "colab": {
      "name": "204428_Lab03_01_610510531.ipynb",
      "provenance": [],
      "collapsed_sections": [],
      "authorship_tag": "ABX9TyMk1JO2i3hPE2r0lmfMSsDi",
      "include_colab_link": true
    },
    "kernelspec": {
      "name": "python3",
      "display_name": "Python 3"
    }
  },
  "cells": [
    {
      "cell_type": "markdown",
      "metadata": {
        "id": "view-in-github",
        "colab_type": "text"
      },
      "source": [
        "<a href=\"https://colab.research.google.com/github/tackulus/204482/blob/main/Lab03_01_610510531.ipynb\" target=\"_parent\"><img src=\"https://colab.research.google.com/assets/colab-badge.svg\" alt=\"Open In Colab\"/></a>"
      ]
    },
    {
      "cell_type": "code",
      "metadata": {
        "colab": {
          "base_uri": "https://localhost:8080/"
        },
        "id": "V96Rfa2yq7iM",
        "outputId": "6786d056-bb52-47ba-8188-81c13af94f38"
      },
      "source": [
        "x0 = '1619471' # Seed\r\n",
        "\r\n",
        "def midsquare(x, n=1000):\r\n",
        "    d = len(x) # Digit of Random Number\r\n",
        "    half = d // 2\r\n",
        "\r\n",
        "    if d % 2 :\r\n",
        "        f = \"{:0\" + str(2*d - 1) + \"d}\"\r\n",
        "    else:\r\n",
        "        f = \"{:0\" + str(2*d) + \"d}\"\r\n",
        "\r\n",
        "    lst = []\r\n",
        "    for i in range(n):\r\n",
        "        x = int(x)\r\n",
        "        num = f.format(x**2)\r\n",
        "        x = num[half:half+d]\r\n",
        "        r = float(\"0.\" + x)\r\n",
        "        lst.append(r)\r\n",
        "        \r\n",
        "    return lst\r\n",
        "\r\n",
        "randoms = midsquare(x0) # list of 1000 unique random number\r\n",
        "print(f\"Prove of uniqueness: len(set(randoms)) = {len(set(randoms))}\")"
      ],
      "execution_count": null,
      "outputs": [
        {
          "output_type": "stream",
          "text": [
            "Prove of uniqueness: len(set(randoms)) = 1000\n"
          ],
          "name": "stdout"
        }
      ]
    }
  ]
}