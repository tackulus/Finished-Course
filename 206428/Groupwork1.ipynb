{
  "nbformat": 4,
  "nbformat_minor": 0,
  "metadata": {
    "colab": {
      "name": "Groupwork1.ipynb",
      "provenance": [],
      "authorship_tag": "ABX9TyM4XLcQyMf4QIH3KlYDVx7r",
      "include_colab_link": true
    },
    "kernelspec": {
      "name": "python3",
      "display_name": "Python 3"
    }
  },
  "cells": [
    {
      "cell_type": "markdown",
      "metadata": {
        "id": "view-in-github",
        "colab_type": "text"
      },
      "source": [
        "<a href=\"https://colab.research.google.com/github/tackulus/206428/blob/main/Groupwork1.ipynb\" target=\"_parent\"><img src=\"https://colab.research.google.com/assets/colab-badge.svg\" alt=\"Open In Colab\"/></a>"
      ]
    },
    {
      "cell_type": "code",
      "metadata": {
        "id": "mwGCgJb_GC-D"
      },
      "source": [
        "ciphertext = \"G TGYZ FA TOF WVTVZQ (WSGXYZQ HVWNZUQ): VT OGQ TSZ PZQT FA TVCZQ, VT OGQ TSZ OFXQT FA TVCZQ, VT OGQ TSZ GMZ FA OVQHFC, VT OGQ TSZ GMZ FA AFFYVQSUZQQ, VT OGQ TSZ ZKFWS FA PZYVZA, VT OGQ TSZ ZKFWS FA VUWXZHEYVTL, VT OGQ TSZ QZGQFU FA YVMST, VT OGQ TSZ QZGQFU FA HGXNUZQQ, VT OGQ TSZ QKXVUM FA SFKZ, VT OGQ TSZ OVUTZX FA HZQKGVX, OZ SGH ZJZXLTSVUM PZAFXZ EQ, OZ SGH UFTSVUM PZAFXZ EQ, OZ OZXZ GYY MFVUM HVXZWT TF SZGJZU, OZ OZXZ GYY MFVUM HVXZWT TSZ FT- SZX OGL — VU QSFXT, TSZ KZXVFH OGQ QF AGX YVNZ TSZ KXZQZUT KZXVFH, TSGT QFCZ FA VTQ UFVQVZQT GETSFXVTVZQ VUQVQTZH FU VTQ PZVUM XZWZVJZH, AFX MFFH FX AFX ZJVY, VU TSZ QEKZXYGTVJZ HZMXZZ FA WFCKGXVQFU FUYL.\""
      ],
      "execution_count": null,
      "outputs": []
    },
    {
      "cell_type": "code",
      "metadata": {
        "colab": {
          "base_uri": "https://localhost:8080/"
        },
        "id": "jbC7LqYYGXT0",
        "outputId": "dfc2ff91-6f77-49fe-a352-13e2eae23095"
      },
      "source": [
        "dct = {chr(n): 0 for n in range(65, 91)}\n",
        "for x in ciphertext:\n",
        "    if x in dct:\n",
        "        dct[x] += 1\n",
        "\n",
        "dct"
      ],
      "execution_count": null,
      "outputs": [
        {
          "output_type": "execute_result",
          "data": {
            "text/plain": [
              "{'A': 20,\n",
              " 'B': 0,\n",
              " 'C': 5,\n",
              " 'D': 0,\n",
              " 'E': 5,\n",
              " 'F': 46,\n",
              " 'G': 31,\n",
              " 'H': 15,\n",
              " 'I': 0,\n",
              " 'J': 5,\n",
              " 'K': 10,\n",
              " 'L': 4,\n",
              " 'M': 13,\n",
              " 'N': 3,\n",
              " 'O': 22,\n",
              " 'P': 5,\n",
              " 'Q': 45,\n",
              " 'R': 0,\n",
              " 'S': 29,\n",
              " 'T': 51,\n",
              " 'U': 23,\n",
              " 'V': 48,\n",
              " 'W': 10,\n",
              " 'X': 28,\n",
              " 'Y': 14,\n",
              " 'Z': 73}"
            ]
          },
          "metadata": {
            "tags": []
          },
          "execution_count": 9
        }
      ]
    },
    {
      "cell_type": "code",
      "metadata": {
        "colab": {
          "base_uri": "https://localhost:8080/",
          "height": 164
        },
        "id": "930Ot4iNHEPs",
        "outputId": "1567c651-3abc-48db-f857-fab1fadf0427"
      },
      "source": [
        "decoder = {'A': \"f\",\n",
        "           'B': \"\",\n",
        "           'C': \"m\",\n",
        "           'D': \"\",\n",
        "           'E': \"u\",\n",
        "           'F': \"o\",\n",
        "           'G': \"a\",\n",
        "           'H': \"d\",\n",
        "           'I': \"\",\n",
        "           'J': \"v\",\n",
        "           'K': \"p\",\n",
        "           'L': \"y\",\n",
        "           'M': \"g\",\n",
        "           'N': \"k\",\n",
        "           'O': \"w\",\n",
        "           'P': \"b\",\n",
        "           'Q': \"s\",\n",
        "           'R': \"\",\n",
        "           'S': \"h\",\n",
        "           'T': \"t\",\n",
        "           'U': \"n\",\n",
        "           'V': \"i\",\n",
        "           'W': \"c\",\n",
        "           'X': \"r\",\n",
        "           'Y': \"l\",\n",
        "           'Z': \"e\"}\n",
        "\n",
        "plaintext = \"\"\n",
        "for y in ciphertext:\n",
        "    x = decoder[y] if y in decoder else y\n",
        "    x = y if x == \"\" else x\n",
        "    plaintext += x\n",
        "\n",
        "plaintext"
      ],
      "execution_count": null,
      "outputs": [
        {
          "output_type": "execute_result",
          "data": {
            "application/vnd.google.colaboratory.intrinsic+json": {
              "type": "string"
            },
            "text/plain": [
              "'a tale of two cities (charles dickens): it was the best of times, it was the worst of times, it was the age of wisdom, it was the age of foolishness, it was the epoch of belief, it was the epoch of incredulity, it was the season of light, it was the season of darkness, it was the spring of hope, it was the winter of despair, we had everything before us, we had nothing before us, we were all going direct to heaven, we were all going direct the ot- her way — in short, the period was so far like the present period, that some of its noisiest authorities insisted on its being received, for good or for evil, in the superlative degree of comparison only.'"
            ]
          },
          "metadata": {
            "tags": []
          },
          "execution_count": 34
        }
      ]
    }
  ]
}